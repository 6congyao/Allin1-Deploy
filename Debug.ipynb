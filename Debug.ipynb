{
 "cells": [
  {
   "cell_type": "code",
   "execution_count": 1,
   "id": "701bb653-8432-4cbb-8141-0b51c71c0f3e",
   "metadata": {
    "tags": []
   },
   "outputs": [],
   "source": [
    "s3uri = \"s3://sagemaker-ap-northeast-1-544592066775/stable-diffusion-webui/generated/\""
   ]
  },
  {
   "cell_type": "code",
   "execution_count": 60,
   "id": "62c88143-5e0c-47c8-ac85-f8eea90c5894",
   "metadata": {
    "tags": []
   },
   "outputs": [],
   "source": [
    "#查看生成的图片"
   ]
  },
  {
   "cell_type": "code",
   "execution_count": 2,
   "id": "c5ef9d98-d83e-4422-842c-575942537c16",
   "metadata": {
    "tags": []
   },
   "outputs": [
    {
     "name": "stdout",
     "output_type": "stream",
     "text": [
      "200\n"
     ]
    }
   ],
   "source": [
    "!aws s3 ls $s3uri --recursive | wc -l"
   ]
  },
  {
   "cell_type": "code",
   "execution_count": 14,
   "id": "75ab2914-6521-4b6d-b44f-649402ea8f80",
   "metadata": {
    "scrolled": true,
    "tags": []
   },
   "outputs": [
    {
     "name": "stdout",
     "output_type": "stream",
     "text": [
      "2023-06-19 09:45:44     415153 stable-diffusion-webui/generated/20230619014543-29fa9d13-5f2b-44ac-93e0-61f051223b44.png\n",
      "2023-06-19 09:45:46     465319 stable-diffusion-webui/generated/20230619014545-7eab12be-e2ad-4ada-8c48-2c80e0134c4f.png\n",
      "2023-06-19 09:45:48     474301 stable-diffusion-webui/generated/20230619014547-21132b0e-7a2e-4674-bab5-88214499f910.png\n",
      "2023-06-19 09:45:50     447698 stable-diffusion-webui/generated/20230619014549-4aae6c88-5d4f-4531-8a3e-961bf8b5608a.png\n",
      "2023-06-19 09:45:52     384482 stable-diffusion-webui/generated/20230619014551-a77ff5ee-9115-4a3d-84a5-4d86a8104358.png\n",
      "2023-06-19 09:45:56     362030 stable-diffusion-webui/generated/20230619014555-59f1c1e3-79b4-45d6-97c2-b9567d539738.png\n",
      "2023-06-19 09:46:00     513298 stable-diffusion-webui/generated/20230619014559-54865e9e-f05a-4610-8d34-f29f938dee3b.png\n",
      "2023-06-19 09:46:04     474976 stable-diffusion-webui/generated/20230619014603-95ab088d-cd07-4fc5-bcba-8a2cde7c345d.png\n",
      "2023-06-19 09:46:06     429796 stable-diffusion-webui/generated/20230619014605-533463a8-9318-4bf6-8c1a-487e3e5e9222.png\n",
      "2023-06-19 09:46:07     444831 stable-diffusion-webui/generated/20230619014606-b7ad38b9-4791-4d41-bcc8-f65e292de5bf.png\n",
      "2023-06-19 09:46:09     448922 stable-diffusion-webui/generated/20230619014608-8664787a-df40-41c0-bb9e-f439bf52f5a7.png\n",
      "2023-06-19 09:46:11     477327 stable-diffusion-webui/generated/20230619014610-78fea876-58fd-489b-b202-5c1c78e1348a.png\n",
      "2023-06-19 09:46:13     480578 stable-diffusion-webui/generated/20230619014612-cbf46604-11d4-44d9-9600-64bcdfd1c358.png\n",
      "2023-06-19 09:46:16     453731 stable-diffusion-webui/generated/20230619014615-80f74e53-0c57-438c-940e-cc94fd260006.png\n",
      "2023-06-19 09:46:19     426691 stable-diffusion-webui/generated/20230619014618-876218ed-de6c-4efe-a325-fab2be05ce6c.png\n",
      "2023-06-19 09:46:20     475512 stable-diffusion-webui/generated/20230619014619-9fb99814-057d-45a8-8467-ac4922ac6bc1.png\n",
      "2023-06-19 09:46:22     462510 stable-diffusion-webui/generated/20230619014621-66efb0d9-a3c5-4538-a428-36cd68adecc7.png\n",
      "2023-06-19 09:46:24     472061 stable-diffusion-webui/generated/20230619014623-74547261-e3ea-4be2-83a3-69495248f34a.png\n",
      "2023-06-19 09:46:27     389097 stable-diffusion-webui/generated/20230619014626-6ce96f9f-e42b-492f-8fb0-957ebed68dc1.png\n",
      "2023-06-19 09:46:31     502968 stable-diffusion-webui/generated/20230619014630-5666d5cd-abe9-42b8-a788-bfa83a6705c7.png\n",
      "2023-06-19 09:46:36     382782 stable-diffusion-webui/generated/20230619014635-dd6dfb44-9b3c-4b48-929f-1341a3b2760c.png\n",
      "2023-06-19 09:46:40     320367 stable-diffusion-webui/generated/20230619014639-e4cea069-1e60-4d95-ab9c-5b3afdc6fdcb.png\n",
      "2023-06-19 09:46:42     319947 stable-diffusion-webui/generated/20230619014641-5be884ec-9b68-4fe6-9e5f-922fd008278b.png\n",
      "2023-06-19 09:46:44     478355 stable-diffusion-webui/generated/20230619014643-95cf313d-d98c-407f-b0cc-f0e06f786b62.png\n",
      "2023-06-19 09:46:47     348204 stable-diffusion-webui/generated/20230619014646-87fec5a1-ef09-4dee-abfd-934d2754eeb3.png\n",
      "2023-06-19 09:46:51     432300 stable-diffusion-webui/generated/20230619014650-42e90e27-1a55-497b-ab2c-fa3ce9fb8883.png\n",
      "2023-06-19 09:46:53     428979 stable-diffusion-webui/generated/20230619014652-c96e3671-1d1e-489e-9a01-cf7400dca7ac.png\n",
      "2023-06-19 09:46:56     453115 stable-diffusion-webui/generated/20230619014655-46c9c271-4ca3-4121-91e5-ff632993fe5a.png\n",
      "2023-06-19 09:46:58     469293 stable-diffusion-webui/generated/20230619014657-a50e8489-ae5f-4575-8000-e1543ca17a5f.png\n",
      "2023-06-19 09:47:00     352577 stable-diffusion-webui/generated/20230619014659-81fddf9b-96cd-44c1-97e7-d25d91dc176a.png\n",
      "2023-06-19 09:47:03     356289 stable-diffusion-webui/generated/20230619014702-55a66bcd-7bf0-4101-b35c-b50d06fe705b.png\n",
      "2023-06-19 09:47:07     354684 stable-diffusion-webui/generated/20230619014706-15eed5ab-bb01-4087-b9e0-1c774272ea45.png\n",
      "2023-06-19 09:47:09     375714 stable-diffusion-webui/generated/20230619014708-9555bd8c-2cc8-4a57-b6b8-7e12f7b56501.png\n",
      "2023-06-19 09:47:12     386181 stable-diffusion-webui/generated/20230619014711-c7738747-c770-46ea-a941-946e07a4be17.png\n",
      "2023-06-19 09:47:17     490273 stable-diffusion-webui/generated/20230619014716-0b7af2ed-0ce4-4238-8272-4d8f88bfd887.png\n",
      "2023-06-19 09:47:22     491444 stable-diffusion-webui/generated/20230619014721-bb97b7cb-099d-48eb-8dde-58e12e5b0720.png\n",
      "2023-06-19 09:47:24     364685 stable-diffusion-webui/generated/20230619014723-ee933fe6-edda-4ede-9d06-d00fb27da329.png\n",
      "2023-06-19 09:47:27     379328 stable-diffusion-webui/generated/20230619014726-1016c848-8095-400a-9382-f00493c712c8.png\n",
      "2023-06-19 09:47:29     438919 stable-diffusion-webui/generated/20230619014728-c590f19c-a4ae-495b-9ebe-ad4a3d866c36.png\n",
      "2023-06-19 09:47:33     302980 stable-diffusion-webui/generated/20230619014732-f96d163f-f428-48fb-8ee5-60c1bdec6a85.png\n",
      "2023-06-19 09:47:35     546119 stable-diffusion-webui/generated/20230619014734-08c05b69-d599-41de-88d7-212c4821e307.png\n",
      "2023-06-19 09:47:38     448810 stable-diffusion-webui/generated/20230619014737-f14c682f-a50a-46ec-8956-c3f008f30b3e.png\n",
      "2023-06-19 09:47:40     528960 stable-diffusion-webui/generated/20230619014739-65098d16-9572-4405-b52e-25a9618bccd9.png\n",
      "2023-06-19 09:47:45     377332 stable-diffusion-webui/generated/20230619014744-23ef0846-f1cc-48d1-837e-406eb2c2b80b.png\n",
      "2023-06-19 09:47:48     429065 stable-diffusion-webui/generated/20230619014747-9a7b18a9-7e25-4587-b5e9-4aa9a6cdfcdf.png\n",
      "2023-06-19 09:47:49     543991 stable-diffusion-webui/generated/20230619014748-3d9a41cd-b0c0-42c2-b1ff-7ebb5654823a.png\n",
      "2023-06-19 09:47:53     413730 stable-diffusion-webui/generated/20230619014752-a26af358-8242-4f6d-a7bb-7ac880699a20.png\n",
      "2023-06-19 09:47:56     435298 stable-diffusion-webui/generated/20230619014755-790227cc-1e15-415c-9625-d44473dc8662.png\n",
      "2023-06-19 09:48:00     462461 stable-diffusion-webui/generated/20230619014759-a39c2e28-26f9-4bc9-a180-10d23d5ed331.png\n",
      "2023-06-19 09:48:03     403330 stable-diffusion-webui/generated/20230619014802-1a2a6ab2-ae9a-49e0-97b1-f6c55373189c.png\n",
      "2023-06-19 09:48:05     318563 stable-diffusion-webui/generated/20230619014804-abb68363-8792-4867-a7e8-e2292e1e252f.png\n",
      "2023-06-19 09:48:07     471801 stable-diffusion-webui/generated/20230619014806-1c23bb61-c702-4281-902d-02eaff08a266.png\n",
      "2023-06-19 09:48:09     476515 stable-diffusion-webui/generated/20230619014808-2a01976e-f553-47e4-9864-d349e2cf88ca.png\n",
      "2023-06-19 09:48:11     464834 stable-diffusion-webui/generated/20230619014810-418075ae-cbaf-488b-983a-e9496fd0294a.png\n",
      "2023-06-19 09:48:13     342482 stable-diffusion-webui/generated/20230619014812-c6817934-9a49-4549-9f97-264a84a7d5ab.png\n",
      "2023-06-19 09:48:17     344959 stable-diffusion-webui/generated/20230619014816-461e4c2b-6091-4bf8-8591-bcae68c4b45e.png\n",
      "2023-06-19 09:48:20     416427 stable-diffusion-webui/generated/20230619014819-8a9ccbca-7a61-4a96-b922-2ad7b02cc370.png\n",
      "2023-06-19 09:48:23     329049 stable-diffusion-webui/generated/20230619014822-e5172081-cf4c-4034-b9f6-74d472e488ed.png\n",
      "2023-06-19 09:48:26     410563 stable-diffusion-webui/generated/20230619014825-40d84a9f-2ce6-4154-bd91-2e1901fe47cc.png\n",
      "2023-06-19 09:48:29     507365 stable-diffusion-webui/generated/20230619014828-266bfed5-cedc-42fc-ba68-0888dd6c0599.png\n",
      "2023-06-19 09:48:31     490377 stable-diffusion-webui/generated/20230619014830-0b243540-5fa0-4846-abf9-b49d644300b4.png\n",
      "2023-06-19 09:48:36     326077 stable-diffusion-webui/generated/20230619014835-6e0519a3-e6b2-4002-a93a-057ab1de166e.png\n",
      "2023-06-19 09:48:40     459501 stable-diffusion-webui/generated/20230619014839-ebf454cb-894d-420c-a3df-daceae011ca4.png\n",
      "2023-06-19 09:48:43     355533 stable-diffusion-webui/generated/20230619014842-de9cb192-c97f-4eb8-9f24-ff3334c1955c.png\n",
      "2023-06-19 09:48:48     410727 stable-diffusion-webui/generated/20230619014847-8f84c684-d8cd-44e4-a302-93b26b8db3be.png\n",
      "2023-06-19 09:48:50     471070 stable-diffusion-webui/generated/20230619014849-6f72c25c-47db-49cf-b60c-84d8f11a4ea2.png\n",
      "2023-06-19 09:48:52     453761 stable-diffusion-webui/generated/20230619014851-14c7c7f6-10af-4849-b12d-ed55d1b323aa.png\n",
      "2023-06-19 09:48:54     382692 stable-diffusion-webui/generated/20230619014853-7ff2ce4b-93f0-454a-8ff7-03edb9310d82.png\n",
      "2023-06-19 09:48:56     348983 stable-diffusion-webui/generated/20230619014855-4e9f532a-2fa3-4401-849e-59cbb9112bc1.png\n",
      "2023-06-19 09:48:59     500442 stable-diffusion-webui/generated/20230619014858-87381671-270a-4f49-8993-316d6b007896.png\n",
      "2023-06-19 09:49:03     567774 stable-diffusion-webui/generated/20230619014902-9af09271-73d1-42e7-b983-384c9018731f.png\n",
      "2023-06-19 09:49:05     479469 stable-diffusion-webui/generated/20230619014904-1173154e-4436-4eee-a8a6-e063e0931610.png\n",
      "2023-06-19 09:49:06     412731 stable-diffusion-webui/generated/20230619014905-6cba72fb-a045-4aff-be9a-94031161f455.png\n",
      "2023-06-19 09:49:08     534535 stable-diffusion-webui/generated/20230619014907-e2de4300-d1d9-4793-b81d-26e568be2fe6.png\n",
      "2023-06-19 09:49:13     345377 stable-diffusion-webui/generated/20230619014912-ed356005-d481-43c8-8382-3402efd0cd43.png\n",
      "2023-06-19 09:49:16     444294 stable-diffusion-webui/generated/20230619014915-396aeed8-7f6f-4164-a3d0-dc5a487db004.png\n",
      "2023-06-19 09:49:19     525963 stable-diffusion-webui/generated/20230619014918-30466929-f5da-4591-85c4-e59222dfd385.png\n",
      "2023-06-19 09:49:21     378666 stable-diffusion-webui/generated/20230619014920-86997d67-ec93-49e3-9999-11a32e77f28e.png\n",
      "2023-06-19 09:49:23     398771 stable-diffusion-webui/generated/20230619014922-14b24e24-165e-4436-aca3-c5aac907581e.png\n",
      "2023-06-19 09:49:25     523367 stable-diffusion-webui/generated/20230619014924-13bb179d-9d5e-4fae-8d94-29571cbfa685.png\n",
      "2023-06-19 09:49:28     343270 stable-diffusion-webui/generated/20230619014927-9ba47633-6cd0-4973-be94-d6ef624044cd.png\n",
      "2023-06-19 09:49:30     294531 stable-diffusion-webui/generated/20230619014929-4c32306d-945b-488f-a0ec-d592feab9d12.png\n",
      "2023-06-19 09:49:33     432576 stable-diffusion-webui/generated/20230619014932-fb673a5a-d847-4078-8b90-c7561445e60c.png\n",
      "2023-06-19 09:49:38     519023 stable-diffusion-webui/generated/20230619014937-3a44b757-6666-4340-b5a9-92e812db3bc8.png\n",
      "2023-06-19 09:49:40     471269 stable-diffusion-webui/generated/20230619014939-206b6c7e-a403-40c1-afbb-1028a4768050.png\n",
      "2023-06-19 09:49:42     430514 stable-diffusion-webui/generated/20230619014941-43fe989f-4405-47a6-ad30-80b97a907f73.png\n",
      "2023-06-19 09:49:46     383917 stable-diffusion-webui/generated/20230619014945-da2817a1-02e8-49a1-88d7-1ba52d904427.png\n",
      "2023-06-19 09:49:49     328529 stable-diffusion-webui/generated/20230619014948-a1892bc5-86b8-42dc-8697-f06bd08ddf6d.png\n",
      "2023-06-19 09:49:52     423183 stable-diffusion-webui/generated/20230619014951-8d043cdb-8307-472f-8026-696649863451.png\n",
      "2023-06-19 09:49:54     353155 stable-diffusion-webui/generated/20230619014953-db89995c-dcbc-4635-9039-99628cb6ed4e.png\n",
      "2023-06-19 09:49:57     351031 stable-diffusion-webui/generated/20230619014956-c3dad6e5-c524-4cdc-bdfa-29ce5226dd92.png\n",
      "2023-06-19 09:50:00     339305 stable-diffusion-webui/generated/20230619014959-1ae2e336-893e-4cc3-92ec-880a9f048b68.png\n",
      "2023-06-19 09:50:02     388899 stable-diffusion-webui/generated/20230619015001-1ea7367e-b844-46e6-a06e-5b38ffef5038.png\n",
      "2023-06-19 09:50:05     472406 stable-diffusion-webui/generated/20230619015004-b74386d8-e1ce-43bd-b26c-38b0f896b38f.png\n",
      "2023-06-19 09:50:07     491171 stable-diffusion-webui/generated/20230619015006-1a4aee49-217a-4796-a528-8a1b82f9b057.png\n",
      "2023-06-19 09:50:09     535491 stable-diffusion-webui/generated/20230619015008-d0730986-8c29-49f2-9d28-b80623ac58dd.png\n",
      "2023-06-19 09:50:12     423528 stable-diffusion-webui/generated/20230619015011-59c94f1a-a0f9-4ddb-8e50-23e2712973bf.png\n",
      "2023-06-19 09:50:17     539338 stable-diffusion-webui/generated/20230619015016-ea360c34-b5f3-484b-9ac7-b0137c326951.png\n",
      "2023-06-19 09:50:19     485845 stable-diffusion-webui/generated/20230619015018-625669a0-ead7-4463-97ff-1bd3d69ec0ab.png\n",
      "2023-06-19 09:50:22     419503 stable-diffusion-webui/generated/20230619015021-a898c39f-6dcf-4493-b846-927e828327d5.png\n",
      "2023-06-19 09:50:26     365432 stable-diffusion-webui/generated/20230619015025-a3b3b3fa-f503-4746-80e8-0a1148902f63.png\n",
      "2023-06-19 09:50:28     418493 stable-diffusion-webui/generated/20230619015027-090bec75-0dfe-4a6b-84c4-e7efa8160f55.png\n",
      "2023-06-19 09:50:30     290050 stable-diffusion-webui/generated/20230619015029-1c5dcf1a-b444-4635-b355-fffe835a2cc6.png\n",
      "2023-06-19 09:50:33     480274 stable-diffusion-webui/generated/20230619015032-7ef14162-a20f-4655-9fb3-5dd176e4eadb.png\n",
      "2023-06-19 09:50:36     378921 stable-diffusion-webui/generated/20230619015035-166288b7-de9d-4c71-b1e8-3c706493ea44.png\n",
      "2023-06-19 09:50:39     482698 stable-diffusion-webui/generated/20230619015038-0ef6f0f3-ab48-4181-819b-b46c1d3b6bb5.png\n",
      "2023-06-19 09:50:41     432852 stable-diffusion-webui/generated/20230619015040-b19e243f-8a45-49b1-bb65-a2c509c03f70.png\n",
      "2023-06-19 09:50:42     384781 stable-diffusion-webui/generated/20230619015041-3be7d0ea-4636-4476-9910-ad60c65578ad.png\n",
      "2023-06-19 09:50:46     458035 stable-diffusion-webui/generated/20230619015045-65f4e0fa-8bb4-4d3f-8148-646ad2bf0303.png\n",
      "2023-06-19 09:50:47     523046 stable-diffusion-webui/generated/20230619015046-5b4a0fd2-7cbc-4392-83de-d56adfe0bd28.png\n",
      "2023-06-19 09:50:51     311542 stable-diffusion-webui/generated/20230619015050-9a7c6bd1-3374-417e-ae67-8d42c9edc21a.png\n",
      "2023-06-19 09:50:55     566675 stable-diffusion-webui/generated/20230619015054-9e777b7b-38f1-4490-a08d-625742e3b4c5.png\n",
      "2023-06-19 09:50:58     458804 stable-diffusion-webui/generated/20230619015057-cfa1e721-4e14-4d80-be3b-9bec72f85f9f.png\n",
      "2023-06-19 09:51:02     425888 stable-diffusion-webui/generated/20230619015101-948e12fe-4111-4b13-b7a9-12dc1f14919c.png\n",
      "2023-06-19 09:51:04     427121 stable-diffusion-webui/generated/20230619015103-3b789df5-5cbe-4cb0-b5a9-975c6c506f59.png\n",
      "2023-06-19 09:51:06     504460 stable-diffusion-webui/generated/20230619015105-1996be56-db73-4293-886d-e01d942c8092.png\n",
      "2023-06-19 09:51:08     377158 stable-diffusion-webui/generated/20230619015107-df56e77b-6e9e-47a0-b968-230d96b09c3d.png\n",
      "2023-06-19 09:51:10     505053 stable-diffusion-webui/generated/20230619015109-ad04c930-bdc1-42f1-978e-391e25422f38.png\n",
      "2023-06-19 09:51:16     379452 stable-diffusion-webui/generated/20230619015115-d6d938a2-9c0e-4e59-a839-7daed16ace67.png\n",
      "2023-06-19 09:51:21     424377 stable-diffusion-webui/generated/20230619015120-4b0c7bd7-44fc-46c5-8540-eb497de5e185.png\n",
      "2023-06-19 09:51:23     468008 stable-diffusion-webui/generated/20230619015122-8a010862-2d8e-4743-b0b6-9414ad77123f.png\n",
      "2023-06-19 09:51:27     439879 stable-diffusion-webui/generated/20230619015126-d5a48912-296c-4019-a9d3-0c2366d9b8ab.png\n",
      "2023-06-19 09:51:28     410206 stable-diffusion-webui/generated/20230619015127-d896f84e-ecf2-46de-8b94-f9328296416b.png\n",
      "2023-06-19 09:51:30     571510 stable-diffusion-webui/generated/20230619015129-e993d64d-e449-40bf-b552-feb6b4fa6bb5.png\n",
      "2023-06-19 09:51:33     412697 stable-diffusion-webui/generated/20230619015132-3769ba98-6076-4743-bd34-2638013338c9.png\n",
      "2023-06-19 09:51:37     338078 stable-diffusion-webui/generated/20230619015136-e058e823-2129-4336-99d5-671dedd25248.png\n",
      "2023-06-19 09:51:40     463644 stable-diffusion-webui/generated/20230619015139-62ae4684-3a8a-456f-b8d3-c11173fa878f.png\n",
      "2023-06-19 09:51:43     424044 stable-diffusion-webui/generated/20230619015142-3f3c6e09-02b2-4105-940d-095aa38f728c.png\n",
      "2023-06-19 09:51:46     461314 stable-diffusion-webui/generated/20230619015145-ddd62340-c6ea-4ee3-bca0-e4f61ab6032d.png\n",
      "2023-06-19 09:51:51     382110 stable-diffusion-webui/generated/20230619015150-1c57aef6-4843-484f-8764-f582a883d2fe.png\n",
      "2023-06-19 09:51:54     438133 stable-diffusion-webui/generated/20230619015153-dea19b86-bd88-46dd-903e-87958bfbb861.png\n",
      "2023-06-19 09:51:56     360789 stable-diffusion-webui/generated/20230619015155-16a1147b-85d5-4f17-b287-7366e1f63213.png\n",
      "2023-06-19 09:52:00     495015 stable-diffusion-webui/generated/20230619015159-92a9d2cc-b3d2-40bb-8051-ce713b172984.png\n",
      "2023-06-19 09:52:03     394980 stable-diffusion-webui/generated/20230619015202-b93bdad7-fbe5-4870-aec6-dfd6a4cb1557.png\n",
      "2023-06-19 09:52:05     450306 stable-diffusion-webui/generated/20230619015204-c9205336-821c-4890-a17a-3609539053b7.png\n",
      "2023-06-19 09:52:07     549662 stable-diffusion-webui/generated/20230619015206-5c3c1a59-98d9-4168-b500-cd6e807123c2.png\n",
      "2023-06-19 09:52:10     429411 stable-diffusion-webui/generated/20230619015209-4cf3968d-c902-497a-94fc-801d70f9a18e.png\n",
      "2023-06-19 09:52:13     429677 stable-diffusion-webui/generated/20230619015212-5e5a4e97-777f-477d-bb22-2b8b9bba9aba.png\n",
      "2023-06-19 09:52:15     549344 stable-diffusion-webui/generated/20230619015214-ae3b1da9-9be3-4b47-b4fe-548488c4feda.png\n",
      "2023-06-19 09:52:21     336565 stable-diffusion-webui/generated/20230619015220-6f3458c0-26cf-4a94-8893-f3801325bd1e.png\n",
      "2023-06-19 09:52:24     393178 stable-diffusion-webui/generated/20230619015223-284d787b-aba0-4f97-bbc7-2342ee645149.png\n",
      "2023-06-19 09:52:26     439180 stable-diffusion-webui/generated/20230619015225-f32c146a-32c6-427b-9086-2c9eef9545ad.png\n",
      "2023-06-19 09:52:29     473154 stable-diffusion-webui/generated/20230619015228-0b4c96c8-b2f0-4414-9edc-51a11447728d.png\n",
      "2023-06-19 09:52:31     353923 stable-diffusion-webui/generated/20230619015230-152ae959-978f-4073-ad50-9c09f2d97f19.png\n",
      "2023-06-19 09:52:33     383882 stable-diffusion-webui/generated/20230619015232-0ae32441-3961-41bf-99ef-d2343561e6b7.png\n",
      "2023-06-19 09:52:35     446649 stable-diffusion-webui/generated/20230619015234-01eb1d08-bef8-4a94-8218-a6762a42ea45.png\n",
      "2023-06-19 09:52:40     407017 stable-diffusion-webui/generated/20230619015239-7d7e5eba-c5e6-48e1-a0ad-2728c37dc19e.png\n",
      "2023-06-19 09:52:43     494928 stable-diffusion-webui/generated/20230619015242-c65b3af4-50dc-4332-97ae-6d23a7c0e2b0.png\n",
      "2023-06-19 09:52:45     502369 stable-diffusion-webui/generated/20230619015244-a307ad29-7514-4028-b4e1-43613383be74.png\n",
      "2023-06-19 09:52:47     443469 stable-diffusion-webui/generated/20230619015246-3124934b-a6f9-45fb-8a0e-6b52ce37ab4e.png\n",
      "2023-06-19 09:52:50     377789 stable-diffusion-webui/generated/20230619015249-d9332338-fb29-4d9b-b395-73022c1d447b.png\n",
      "2023-06-19 09:52:53     560000 stable-diffusion-webui/generated/20230619015252-8c43625f-c3c6-43ba-8d60-478ecb994a6f.png\n",
      "2023-06-19 09:52:56     456932 stable-diffusion-webui/generated/20230619015255-6ec7707c-180a-4e80-8fd1-df1d292324dd.png\n",
      "2023-06-19 09:53:02     335175 stable-diffusion-webui/generated/20230619015301-c8e24f9e-a50b-4bae-bf89-0593790f4b89.png\n",
      "2023-06-19 09:53:05     323993 stable-diffusion-webui/generated/20230619015304-b97a8a46-7688-4380-8804-176dcf2e542f.png\n",
      "2023-06-19 09:53:07     470477 stable-diffusion-webui/generated/20230619015306-e4bd4575-9afb-4099-92df-079579aefb19.png\n",
      "2023-06-19 09:53:09     412436 stable-diffusion-webui/generated/20230619015308-27459887-bd2a-4ba3-b6ac-7a681b76d16f.png\n",
      "2023-06-19 09:53:12     346162 stable-diffusion-webui/generated/20230619015311-c263b60c-caa4-47db-acc0-db64dd199a92.png\n",
      "2023-06-19 09:53:16     413967 stable-diffusion-webui/generated/20230619015315-d880befb-711f-455f-8eed-508366e20ae7.png\n",
      "2023-06-19 09:53:19     372068 stable-diffusion-webui/generated/20230619015318-e485c5b9-a76e-4bd7-b03a-27fd82607f27.png\n",
      "2023-06-19 09:53:23     468102 stable-diffusion-webui/generated/20230619015322-07efcda9-3f6b-4207-a022-9c671e29347d.png\n",
      "2023-06-19 09:53:27     347907 stable-diffusion-webui/generated/20230619015326-e36a5545-8b0f-4bd7-a19c-f3adce4a8af3.png\n",
      "2023-06-19 09:53:29     336663 stable-diffusion-webui/generated/20230619015328-c184c62d-d4d0-4f1b-927d-6c98613591d7.png\n",
      "2023-06-19 09:53:32     543637 stable-diffusion-webui/generated/20230619015331-de93d4b9-db66-48b6-bfca-8e5964b17654.png\n",
      "2023-06-19 09:53:34     536871 stable-diffusion-webui/generated/20230619015333-8ac66562-65d5-4d0e-afd8-8619e369175c.png\n",
      "2023-06-19 09:53:37     377220 stable-diffusion-webui/generated/20230619015336-c9ff881c-341d-4a9e-9926-0195b594faf8.png\n",
      "2023-06-19 09:53:42     385177 stable-diffusion-webui/generated/20230619015341-eb33e653-8c4b-4288-a5f5-bdfadde2c42c.png\n",
      "2023-06-19 09:53:45     502004 stable-diffusion-webui/generated/20230619015344-665ee482-899d-4290-96b0-a0102b349670.png\n",
      "2023-06-19 09:53:48     432769 stable-diffusion-webui/generated/20230619015347-5e9b169e-c3a1-41d2-afa1-27e686fb9558.png\n",
      "2023-06-19 09:53:51     520135 stable-diffusion-webui/generated/20230619015350-176ff138-82da-4a3b-b1e8-b68f0e29113e.png\n",
      "2023-06-19 09:53:54     383335 stable-diffusion-webui/generated/20230619015353-4fa853d9-8ebb-4521-8de0-9becadbf4ea6.png\n",
      "2023-06-19 09:53:57     500471 stable-diffusion-webui/generated/20230619015356-afd0d357-09ed-47f6-8b3b-ff71aae84d11.png\n",
      "2023-06-19 09:54:01     481614 stable-diffusion-webui/generated/20230619015400-2058f7d2-aef0-4678-a009-5023d98f3874.png\n",
      "2023-06-19 09:54:03     491789 stable-diffusion-webui/generated/20230619015402-e2b28c88-8c15-4b96-b73f-d3dba9f6efad.png\n",
      "2023-06-19 09:54:06     364624 stable-diffusion-webui/generated/20230619015405-b332bb3c-3b89-4b45-b10c-fdf4ab210ed7.png\n",
      "2023-06-19 09:54:10     493853 stable-diffusion-webui/generated/20230619015409-e116e35d-330b-4ecf-9539-d12884376028.png\n",
      "2023-06-19 09:54:13     532615 stable-diffusion-webui/generated/20230619015412-adb4893d-e049-4c08-a9cd-f38f99d03ace.png\n",
      "2023-06-19 09:54:15     435288 stable-diffusion-webui/generated/20230619015414-d1aa67b7-174e-4de4-880c-75446e049a16.png\n",
      "2023-06-19 09:54:18     337422 stable-diffusion-webui/generated/20230619015417-ec6f8d1c-8cd8-492f-a7e6-95d99675d852.png\n",
      "2023-06-19 09:54:22     464272 stable-diffusion-webui/generated/20230619015421-2ea2aa0b-6ce0-4a87-86c6-4ef91c36d769.png\n",
      "2023-06-19 09:54:25     337231 stable-diffusion-webui/generated/20230619015424-38dd56d5-a75d-4817-9bdf-c47996edb2cd.png\n",
      "2023-06-19 09:54:28     471414 stable-diffusion-webui/generated/20230619015427-45079f8c-e6cc-4252-8e46-5029cde52bd3.png\n",
      "2023-06-19 09:54:32     328600 stable-diffusion-webui/generated/20230619015431-5d65f333-9aac-49e1-bb92-7d0faccaf647.png\n",
      "2023-06-19 09:54:34     471903 stable-diffusion-webui/generated/20230619015433-18f91e0a-8fa4-49ca-9a6a-641cb3a4ef56.png\n",
      "2023-06-19 09:54:36     590016 stable-diffusion-webui/generated/20230619015435-b8fdea2b-98e0-494c-94ef-4fe1b5a41672.png\n",
      "2023-06-19 09:54:41     343769 stable-diffusion-webui/generated/20230619015440-75faaa44-c478-4afb-9c2e-0f592c299f32.png\n",
      "2023-06-19 09:54:44     388292 stable-diffusion-webui/generated/20230619015443-51b0a04c-d160-476e-9d2a-f5875b61e42e.png\n",
      "2023-06-19 09:54:46     528388 stable-diffusion-webui/generated/20230619015445-3deaf4ac-7094-4a25-9a6e-4f171748964c.png\n",
      "2023-06-19 09:54:50     359308 stable-diffusion-webui/generated/20230619015449-c2f01782-950b-49b2-9eec-0287a11c0767.png\n",
      "2023-06-19 09:54:53     491908 stable-diffusion-webui/generated/20230619015452-6923c962-e6d6-4477-91de-81d96ae59462.png\n",
      "2023-06-19 09:54:56     463060 stable-diffusion-webui/generated/20230619015455-18519c70-5815-48be-98bb-0a2befe9fbdd.png\n",
      "2023-06-19 09:54:57     511017 stable-diffusion-webui/generated/20230619015456-7f86d610-0488-447e-8394-707854871bf0.png\n",
      "2023-06-19 09:54:59     407739 stable-diffusion-webui/generated/20230619015458-6365c155-7788-41bd-a5b5-0d30ef2539dc.png\n",
      "2023-06-19 09:55:02     479493 stable-diffusion-webui/generated/20230619015501-37cc573e-7ae8-46a4-8fe9-7a5f91731666.png\n",
      "2023-06-19 09:55:04     456706 stable-diffusion-webui/generated/20230619015503-75ac061d-3813-45eb-8d42-5e01a9d01577.png\n",
      "2023-06-19 09:55:07     362867 stable-diffusion-webui/generated/20230619015506-c1778cd0-72bb-4887-ab2f-6cef098f4869.png\n",
      "2023-06-19 09:55:12     352639 stable-diffusion-webui/generated/20230619015511-8e1d2093-6682-4a52-9b4c-4e4a158ecad1.png\n",
      "2023-06-19 09:55:15     411677 stable-diffusion-webui/generated/20230619015514-5c6b5d58-d599-4963-8e80-d7a52c40aa0d.png\n",
      "2023-06-19 09:55:18     368402 stable-diffusion-webui/generated/20230619015517-9f0e801d-993f-4a0d-8915-9ee61e3e43fa.png\n",
      "2023-06-19 09:55:22     344185 stable-diffusion-webui/generated/20230619015521-355801a3-28f2-488e-bcad-eda087f4fe85.png\n"
     ]
    }
   ],
   "source": [
    "!aws s3 ls $s3uri --recursive"
   ]
  },
  {
   "cell_type": "code",
   "execution_count": 15,
   "id": "b7d8ca1e-980a-420e-81f8-33fd2e1af0bd",
   "metadata": {
    "tags": []
   },
   "outputs": [
    {
     "name": "stdout",
     "output_type": "stream",
     "text": [
      "download: s3://sagemaker-ap-northeast-1-544592066775/stable-diffusion-webui/generated/20230619015249-d9332338-fb29-4d9b-b395-73022c1d447b.png to ./20230619015249-d9332338-fb29-4d9b-b395-73022c1d447b.png\n"
     ]
    }
   ],
   "source": [
    "!aws s3 cp \"$s3uri\"20230619015249-d9332338-fb29-4d9b-b395-73022c1d447b.png ."
   ]
  },
  {
   "cell_type": "code",
   "execution_count": 132,
   "id": "8be847c1-bb91-4860-83b7-4115556db8fc",
   "metadata": {
    "tags": []
   },
   "outputs": [],
   "source": [
    "#查看最新生成的图片"
   ]
  },
  {
   "cell_type": "code",
   "execution_count": null,
   "id": "1f7b297a-5ad0-4d44-8d53-53de4970e094",
   "metadata": {
    "tags": []
   },
   "outputs": [],
   "source": [
    "import boto3\n",
    "import urllib\n",
    "from PIL import Image\n",
    "import io\n",
    "\n",
    "s3_resource = boto3.resource('s3')\n",
    "def get_latest_object_uri(s3_uri):\n",
    "    bucket_name, prefix = parse_s3_uri(s3_uri)\n",
    "    \n",
    "    s3 = boto3.client('s3')\n",
    "    response = s3.list_objects_v2(Bucket=bucket_name, Prefix=prefix)\n",
    "    \n",
    "    if 'Contents' in response:\n",
    "        objects = response['Contents']\n",
    "        objects.sort(key=lambda obj: obj['LastModified'], reverse=True)\n",
    "        latest_object = objects[0]\n",
    "        return f\"s3://{bucket_name}/{latest_object['Key']}\"\n",
    "    \n",
    "    return None\n",
    "\n",
    "def _get_output_bucket_key(output_location):\n",
    "    output_url = urllib.parse.urlparse(output_location)\n",
    "    bucket = output_url.netloc\n",
    "    key = output_url.path[1:]\n",
    "    return bucket, key\n",
    "\n",
    "def parse_s3_uri(s3_uri):\n",
    "    parts = s3_uri.replace('s3://', '').split('/')\n",
    "    bucket_name = parts[0]\n",
    "    prefix = '/'.join(parts[1:])\n",
    "    return bucket_name, prefix\n",
    "\n",
    "# Gen ObjectURI\n",
    "s3_uri = s3uri\n",
    "latest_object_uri = get_latest_object_uri(s3_uri)\n",
    "if latest_object_uri:\n",
    "    print(latest_object_uri)\n",
    "else:\n",
    "    print(\"No objects found.\")\n",
    "    \n",
    "bucket, key = _get_output_bucket_key(latest_object_uri)\n",
    "obj = s3_resource.Object(bucket, key)\n",
    "bytes = obj.get()['Body'].read()\n",
    "image = Image.open(io.BytesIO(bytes))\n",
    "image.show()\n"
   ]
  },
  {
   "cell_type": "code",
   "execution_count": null,
   "id": "204fb0c4-a0a8-42c7-8c41-e2414c7c5cdf",
   "metadata": {},
   "outputs": [],
   "source": [
    "#查看最近生成的随机的图片"
   ]
  },
  {
   "cell_type": "code",
   "execution_count": null,
   "id": "457de85d-ed0f-4aa5-a369-b762c1c9cc36",
   "metadata": {
    "tags": []
   },
   "outputs": [],
   "source": [
    "import boto3\n",
    "import random\n",
    "from PIL import Image\n",
    "import requests\n",
    "import io\n",
    "from io import BytesIO\n",
    "\n",
    "def get_latest_images(s3_uri, num_images):\n",
    "    bucket_name, prefix = parse_s3_uri(s3_uri)\n",
    "\n",
    "    s3 = boto3.client('s3')\n",
    "    response = s3.list_objects_v2(Bucket=bucket_name, Prefix=prefix)\n",
    "\n",
    "    if 'Contents' in response:\n",
    "        objects = response['Contents']\n",
    "        objects.sort(key=lambda obj: obj['LastModified'], reverse=True)\n",
    "        latest_objects = objects[:num_images]\n",
    "        image_uris = [f\"s3://{bucket_name}/{obj['Key']}\" for obj in latest_objects]\n",
    "        return image_uris\n",
    "\n",
    "    return []\n",
    "\n",
    "def _get_output_bucket_key(output_location):\n",
    "    output_url = urllib.parse.urlparse(output_location)\n",
    "    bucket = output_url.netloc\n",
    "    key = output_url.path[1:]\n",
    "    return bucket, key\n",
    "\n",
    "def parse_s3_uri(s3_uri):\n",
    "    parts = s3_uri.replace('s3://', '').split('/')\n",
    "    bucket_name = parts[0]\n",
    "    prefix = '/'.join(parts[1:])\n",
    "    return bucket_name, prefix\n",
    "\n",
    "# Example usage\n",
    "s3_uri = s3uri\n",
    "num_images = 5\n",
    "\n",
    "latest_image_uris = get_latest_images(s3_uri, num_images)\n",
    "if latest_image_uris:\n",
    "    random_image_uri = random.choice(latest_image_uris)\n",
    "    print(\"Randomly selected image URI:\", random_image_uri)\n",
    "    \n",
    "\n",
    "    bucket, key = _get_output_bucket_key(random_image_uri)\n",
    "    obj = s3_resource.Object(bucket, key)\n",
    "    bytes = obj.get()['Body'].read()\n",
    "    image = Image.open(io.BytesIO(bytes))\n",
    "    image.show()\n",
    "else:\n",
    "    print(\"No images found.\")\n"
   ]
  },
  {
   "cell_type": "code",
   "execution_count": 52,
   "id": "c7f30dc8-4728-4d80-90e0-6df73ec737ba",
   "metadata": {
    "tags": []
   },
   "outputs": [],
   "source": [
    "#查看输入输出"
   ]
  },
  {
   "cell_type": "code",
   "execution_count": 9,
   "id": "cb65fca5-cf48-4a6f-a7bd-716e1d19cfb2",
   "metadata": {
    "tags": []
   },
   "outputs": [
    {
     "name": "stdout",
     "output_type": "stream",
     "text": [
      "200\n"
     ]
    }
   ],
   "source": [
    "!aws s3 ls s3://sagemaker-ap-northeast-1-544592066775/stable-diffusion-webui/asyncinvoke/in/ --recursive | wc -l"
   ]
  },
  {
   "cell_type": "code",
   "execution_count": 10,
   "id": "36abd2fa-10f7-49a9-80f6-8141383dbfb6",
   "metadata": {
    "tags": []
   },
   "outputs": [
    {
     "name": "stdout",
     "output_type": "stream",
     "text": [
      "200\n"
     ]
    }
   ],
   "source": [
    "!aws s3 ls s3://sagemaker-ap-northeast-1-544592066775/stable-diffusion-webui/asyncinvoke/out/ --recursive | wc -l"
   ]
  },
  {
   "cell_type": "code",
   "execution_count": 237,
   "id": "c4e1bb16-b077-4002-913a-4f26dace8c72",
   "metadata": {
    "tags": []
   },
   "outputs": [
    {
     "name": "stdout",
     "output_type": "stream",
     "text": [
      "download: s3://sagemaker-ap-northeast-1-544592066775/stable-diffusion-webui/asyncinvoke/out/e8e6e66c-e1a9-4471-a6a7-fcc5f18768cb.out to ../../../../tmp/e8e6e66c-e1a9-4471-a6a7-fcc5f18768cb.out\n"
     ]
    }
   ],
   "source": [
    "!aws s3 cp s3://sagemaker-ap-northeast-1-544592066775/stable-diffusion-webui/asyncinvoke/out/e8e6e66c-e1a9-4471-a6a7-fcc5f18768cb.out /tmp | cat"
   ]
  },
  {
   "cell_type": "code",
   "execution_count": null,
   "id": "2bc6bdb5-8dd3-4ff4-bc08-3cdad0c53dce",
   "metadata": {
    "tags": []
   },
   "outputs": [],
   "source": [
    "!cat /tmp/e8e6e66c-e1a9-4471-a6a7-fcc5f18768cb.out"
   ]
  },
  {
   "cell_type": "code",
   "execution_count": null,
   "id": "f4dce9d8-ac13-4ec3-9ac1-07ce3f2954a6",
   "metadata": {},
   "outputs": [],
   "source": [
    "#删除图片及输入输出"
   ]
  },
  {
   "cell_type": "code",
   "execution_count": null,
   "id": "3828317f-51e9-4813-86c6-1c4e3901e111",
   "metadata": {
    "scrolled": true,
    "tags": []
   },
   "outputs": [],
   "source": [
    "!aws s3 rm $s3uri --recursive"
   ]
  },
  {
   "cell_type": "code",
   "execution_count": null,
   "id": "ef227467-52ac-4081-baf1-c9193d68bd46",
   "metadata": {
    "scrolled": true,
    "tags": []
   },
   "outputs": [],
   "source": [
    "!aws s3 rm s3://sagemaker-ap-northeast-1-544592066775/stable-diffusion-webui/asyncinvoke/in/ --recursive\n",
    "!aws s3 rm s3://sagemaker-ap-northeast-1-544592066775/stable-diffusion-webui/asyncinvoke/out/ --recursive"
   ]
  },
  {
   "cell_type": "code",
   "execution_count": null,
   "id": "61ce0c5a-2fa5-44a0-982f-b15aea8ca4da",
   "metadata": {},
   "outputs": [],
   "source": []
  }
 ],
 "metadata": {
  "kernelspec": {
   "display_name": "conda_pytorch_p39",
   "language": "python",
   "name": "conda_pytorch_p39"
  },
  "language_info": {
   "codemirror_mode": {
    "name": "ipython",
    "version": 3
   },
   "file_extension": ".py",
   "mimetype": "text/x-python",
   "name": "python",
   "nbconvert_exporter": "python",
   "pygments_lexer": "ipython3",
   "version": "3.9.15"
  }
 },
 "nbformat": 4,
 "nbformat_minor": 5
}
