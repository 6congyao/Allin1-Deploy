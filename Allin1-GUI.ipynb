{
 "cells": [
  {
   "cell_type": "code",
   "execution_count": null,
   "id": "5093bea5-9419-442a-ba19-ec7411427bb1",
   "metadata": {},
   "outputs": [],
   "source": [
    "## 以下脚本用于部署 Allin1 WebUI API"
   ]
  },
  {
   "attachments": {},
   "cell_type": "markdown",
   "id": "4a0ef32c",
   "metadata": {},
   "source": [
    "## 网关部署"
   ]
  },
  {
   "cell_type": "code",
   "execution_count": 122,
   "id": "b7f570fa-5327-48ca-a197-c9fb1a9aa9aa",
   "metadata": {
    "tags": []
   },
   "outputs": [
    {
     "name": "stdout",
     "output_type": "stream",
     "text": [
      "Removing login credentials for public.ecr.aws\n"
     ]
    },
    {
     "name": "stderr",
     "output_type": "stream",
     "text": [
      "bash: line 2: cd: stable-diffusion-webui-api/extras/deployment/: No such file or directory\n"
     ]
    }
   ],
   "source": [
    "%%bash\n",
    "sudo chown -R ec2-user:ec2-user .\n",
    "docker logout public.ecr.aws"
   ]
  },
  {
   "cell_type": "code",
   "execution_count": null,
   "id": "9b359184-f722-4597-9720-5c632a7f763f",
   "metadata": {},
   "outputs": [],
   "source": [
    "!git clone https://YOUR_GIT_PRIVATE_KEY@github.com/xieyongliang/stable-diffusion-webui-api"
   ]
  },
  {
   "cell_type": "code",
   "execution_count": 125,
   "id": "2170c605-7bee-400f-ba1b-bbaea8a2b296",
   "metadata": {
    "tags": []
   },
   "outputs": [
    {
     "name": "stdout",
     "output_type": "stream",
     "text": [
      "/bin/sh ./build_and_deploy.sh s3://eu-central-1 aigc-eu-central-1-130f5f40\n"
     ]
    }
   ],
   "source": [
    "import boto3,os\n",
    "account_id = boto3.client(\"sts\").get_caller_identity().get(\"Account\")\n",
    "region_name = boto3.session.Session().region_name\n",
    "s3uri = os.getenv('s3uri')\n",
    "cmd = \"/bin/sh ./build_and_deploy.sh s3://%s %s\" %(s3uri,region_name)\n",
    "os.system(cmd)"
   ]
  },
  {
   "cell_type": "code",
   "execution_count": 126,
   "id": "16f995a0-eb01-4d96-82a7-428eb0ddbe83",
   "metadata": {
    "tags": []
   },
   "outputs": [
    {
     "name": "stdout",
     "output_type": "stream",
     "text": [
      "https://aigc-eu-central-1-130f5f40.s3.amazonaws.com/templates/all-in-one-ai-lambda.yaml\n"
     ]
    }
   ],
   "source": [
    "!aws s3 presign s3://$s3uri/templates/all-in-one-ai-lambda.yaml | cut -d '?' -f 1"
   ]
  },
  {
   "cell_type": "code",
   "execution_count": 132,
   "id": "7f1f30a3-e192-4c62-a47f-3c378dbf606a",
   "metadata": {
    "tags": []
   },
   "outputs": [],
   "source": [
    "cfn = \"$(aws s3 presign s3://$s3uri/templates/all-in-one-ai-lambda.yaml | cut -d '?' -f 1)\""
   ]
  },
  {
   "cell_type": "code",
   "execution_count": 142,
   "id": "08a7df8b-9cc9-429b-9e8e-13b77157de34",
   "metadata": {
    "tags": []
   },
   "outputs": [
    {
     "name": "stdout",
     "output_type": "stream",
     "text": [
      "{\n",
      "    \"StackId\": \"arn:aws:cloudformation:eu-central-1:544592066775:stack/allin1ai-api/115c0ee0-f83e-11ed-be32-0ad0fc8e808c\"\n",
      "}\n"
     ]
    }
   ],
   "source": [
    "!aws cloudformation create-stack --stack-name allin1ai-api --template-url $cfn --parameters ParameterKey=S3Bucket,ParameterValue=$s3uri ParameterKey=S3Key,ParameterValue=\"\" --capabilities CAPABILITY_NAMED_IAM"
   ]
  },
  {
   "cell_type": "code",
   "execution_count": 143,
   "id": "87f1f071-2d02-4a5d-9b33-06b94068ea71",
   "metadata": {
    "tags": []
   },
   "outputs": [
    {
     "name": "stdout",
     "output_type": "stream",
     "text": [
      "\"CREATE_COMPLETE\"\n"
     ]
    }
   ],
   "source": [
    "!aws cloudformation describe-stacks --stack-name allin1ai-api --output json --query 'Stacks[0].StackStatus'"
   ]
  },
  {
   "cell_type": "code",
   "execution_count": 151,
   "id": "692162ae-f638-4d8a-a5b4-29354e4f4d3b",
   "metadata": {
    "tags": []
   },
   "outputs": [],
   "source": [
    "APIGW_URL=\"$(aws cloudformation describe-stacks --stack-name allin1ai-api --output text --query 'Stacks[0].Outputs[?OutputKey==`ApiGatewayProdEndpoint`].OutputValue')\""
   ]
  },
  {
   "cell_type": "code",
   "execution_count": 152,
   "id": "8facfc37-51b9-41fd-9a14-d80f99665b1a",
   "metadata": {
    "tags": []
   },
   "outputs": [
    {
     "name": "stdout",
     "output_type": "stream",
     "text": [
      "https://sl5h9soz0e.execute-api.eu-central-1.amazonaws.com/Prod\n"
     ]
    }
   ],
   "source": [
    "!echo $APIGW_URL"
   ]
  },
  {
   "attachments": {},
   "cell_type": "markdown",
   "id": "dba3e50c-3801-4b7b-90b6-1d2a11214032",
   "metadata": {},
   "source": [
    "## 节点部署"
   ]
  },
  {
   "cell_type": "code",
   "execution_count": 161,
   "id": "a0239669-9ea4-4cda-addd-a8e51ae97f29",
   "metadata": {
    "tags": []
   },
   "outputs": [],
   "source": [
    "%%bash\n",
    "cd ~/SageMaker/stable-diffusion-webui-api"
   ]
  },
  {
   "cell_type": "code",
   "execution_count": null,
   "id": "50a67b4c-aba1-4d76-bc1f-decb67220d40",
   "metadata": {},
   "outputs": [],
   "source": [
    "import sagemaker\n",
    "sagemaker_session = sagemaker.Session()\n",
    "bucket = sagemaker_session.default_bucket()\n",
    "role = sagemaker.get_execution_role()"
   ]
  },
  {
   "cell_type": "code",
   "execution_count": null,
   "id": "7cb15e59-b2bd-4ea6-8df2-75349bb55a0e",
   "metadata": {},
   "outputs": [],
   "source": [
    "!chmod +x build_and_push.sh && ./build_and_push.sh $region_name"
   ]
  },
  {
   "cell_type": "code",
   "execution_count": null,
   "id": "550a5152-a4dc-4c95-9f5d-7c66205d7659",
   "metadata": {},
   "outputs": [],
   "source": [
    "## Deploy to SageMaker Asychronous Endpoint"
   ]
  },
  {
   "cell_type": "code",
   "execution_count": null,
   "id": "1c898837-973b-4abf-8d98-edc2edcf944b",
   "metadata": {},
   "outputs": [],
   "source": [
    "model_data = \"s3://{0}/stable-diffusion-webui/data/model.tar.gz\".format(bucket)\n",
    "!touch dummy\n",
    "!tar czvf model.tar.gz dummy\n",
    "!rm dummy\n",
    "!aws s3 cp model.tar.gz $model_data"
   ]
  },
  {
   "cell_type": "code",
   "execution_count": null,
   "id": "2d9ac46a-a97d-4d15-af7f-eb657043696f",
   "metadata": {},
   "outputs": [],
   "source": [
    "model_name = None\n",
    "image_uri = \"{0}.dkr.ecr.{1}.amazonaws.com/all-in-one-ai-stable-diffusion-webui-inference-api:latest\".format(\n",
    "    account_id, region_name\n",
    ")"
   ]
  },
  {
   "cell_type": "code",
   "execution_count": null,
   "id": "4df76ef9-6886-4f81-afa9-1f24262569da",
   "metadata": {},
   "outputs": [],
   "source": [
    "import json\n",
    "\n",
    "huggingface_models = [\n",
    "    {\n",
    "        \"repo_id\": \"runwayml/stable-diffusion-v1-5\",\n",
    "        \"filename\": \"v1-5-pruned.ckpt\",\n",
    "        \"name\": \"Stable-diffusion\",\n",
    "    },\n",
    "    {\n",
    "        \"repo_id\": \"lllyasviel/ControlNet\",\n",
    "        \"filename\": \"models/control_sd15_canny.pth\",\n",
    "        \"name\": \"ControlNet\",\n",
    "    },\n",
    "]\n",
    "\n",
    "http_models = [\n",
    "    {\n",
    "        \"uri\": \"https://civitai.com/api/download/models/7627\",\n",
    "        \"filename\": \"2bNierAutomataLora_v2b.safetensors\",\n",
    "        \"name\": \"Lora\",\n",
    "    }\n",
    "]\n",
    "\n",
    "model_environment = {\n",
    "    \"ckpt\": \"/tmp/models/Stable-diffusion/v1-5-pruned.ckpt\",\n",
    "    \"huggingface_models\": json.dumps(huggingface_models),\n",
    "    \"http_models\": json.dumps(http_models),\n",
    "    \"generated_images_s3uri\": f\"s3://{bucket}/stable-diffusion-webui/generated/\",\n",
    "    \"embeddings_s3uri\": f\"s3://{bucket}/stable-diffusion-webui/embeddings/\",\n",
    "    \"hypernetwork_s3uri\": f\"s3://{bucket}/stable-diffusion-webui/hypernetwork/\",\n",
    "}"
   ]
  },
  {
   "cell_type": "code",
   "execution_count": null,
   "id": "9d69cd86-ac3c-495b-baf0-bef2dd500393",
   "metadata": {},
   "outputs": [],
   "source": [
    "from sagemaker.model import Model\n",
    "from sagemaker.predictor import Predictor\n",
    "\n",
    "model = Model(\n",
    "    name=model_name,\n",
    "    model_data=model_data,\n",
    "    role=role,\n",
    "    image_uri=image_uri,\n",
    "    env=model_environment,\n",
    "    predictor_cls=Predictor,\n",
    ")\n",
    "\n",
    "instance_type = \"ml.g5.2xlarge\"\n",
    "instance_count = 1"
   ]
  },
  {
   "cell_type": "code",
   "execution_count": null,
   "id": "8c347045-cd79-491b-98bc-d90a36fe9828",
   "metadata": {},
   "outputs": [],
   "source": [
    "from sagemaker.async_inference import AsyncInferenceConfig\n",
    "\n",
    "async_config = AsyncInferenceConfig(\n",
    "    output_path=\"s3://{0}/{1}/asyncinvoke/out/\".format(bucket, \"stable-diffusion-webui\")\n",
    ")"
   ]
  },
  {
   "cell_type": "code",
   "execution_count": null,
   "id": "dca094fb-a5b4-4ed5-a528-c55b2f7ad50b",
   "metadata": {},
   "outputs": [],
   "source": [
    "predictor = model.deploy(\n",
    "    instance_type=instance_type,\n",
    "    initial_instance_count=instance_count,\n",
    "    volume_size_in_gb=225,\n",
    "    container_startup_health_check_timeout=1800,\n",
    "    async_inference_config=async_config,\n",
    ")"
   ]
  },
  {
   "cell_type": "code",
   "execution_count": null,
   "id": "5e6f7915-1110-44b0-9cae-29da80ab0e1f",
   "metadata": {
    "tags": []
   },
   "outputs": [],
   "source": [
    "print (predictor.name)\n",
    "predp = predictor.name"
   ]
  },
  {
   "attachments": {},
   "cell_type": "markdown",
   "id": "a632e942-931b-47ec-9134-ff43e3c1ecde",
   "metadata": {},
   "source": [
    "#### Http API访问地址"
   ]
  },
  {
   "cell_type": "code",
   "execution_count": null,
   "id": "4c2461db-3b14-4d63-b84a-a9f567992b78",
   "metadata": {
    "tags": []
   },
   "outputs": [],
   "source": [
    "APIURL = \" %s/inference?endpoint_name=%s\" %(APIGW_URL,predp)"
   ]
  },
  {
   "cell_type": "code",
   "execution_count": 162,
   "id": "75ff0c0d-78f0-4710-a7fa-11752ba6a93f",
   "metadata": {
    "tags": []
   },
   "outputs": [
    {
     "name": "stdout",
     "output_type": "stream",
     "text": [
      "\n"
     ]
    }
   ],
   "source": [
    "!echo $APIURL"
   ]
  },
  {
   "attachments": {},
   "cell_type": "markdown",
   "id": "a8227cac-8b7c-4e76-8f4e-699fa088a655",
   "metadata": {},
   "source": [
    "#### Test API"
   ]
  },
  {
   "cell_type": "code",
   "execution_count": null,
   "id": "e8a3b08f-ff44-459e-9c97-c5f844457766",
   "metadata": {},
   "outputs": [],
   "source": [
    "!tee lora.json << END\n",
    "{\n",
    "    \"task\": \"text-to-image\",\n",
    "    \"model\": \"v1-5-pruned.ckpt\",\n",
    "    \"txt2img_payload\": {\n",
    "        \"enable_hr\": false,\n",
    "        \"denoising_strength\": 0,\n",
    "        \"firstphase_width\": 0,\n",
    "        \"firstphase_height\": 0,\n",
    "        \"hr_scale\": 2,\n",
    "        \"hr_upscaler\": \"\",\n",
    "        \"hr_second_pass_steps\": 0,\n",
    "        \"hr_resize_x\": 0,\n",
    "        \"hr_resize_y\": 0,\n",
    "        \"prompt\": \"(yorha no. 2 type b), 1girl, blue eyes, white hair, no blindfold, baseball cap, simple background, red shirt, upper body, (masterpiece), short hair, mole under mouth, nier automata, parted lips, <lora:yorha_noDOT_2_type_b:0.5>\",\n",
    "        \"styles\": [\"\"],\n",
    "        \"seed\": 2045180904,\n",
    "        \"subseed\": -1,\n",
    "        \"subseed_strength\": 0,\n",
    "        \"seed_resize_from_h\": -1,\n",
    "        \"seed_resize_from_w\": -1,\n",
    "        \"sampler_name\": \"\",\n",
    "        \"batch_size\": 1,\n",
    "        \"n_iter\": 1,\n",
    "        \"steps\": 20,\n",
    "        \"cfg_scale\": 9,\n",
    "        \"width\": 512,\n",
    "        \"height\": 512,\n",
    "        \"restore_faces\": false,\n",
    "        \"tiling\": false,\n",
    "        \"do_not_save_samples\": false,\n",
    "        \"do_not_save_grid\": false,\n",
    "        \"negative_prompt\": \"skirt, (painting by bad-artist-anime:0.9), (painting by bad-artist:0.9), watermark, text, error, blurry, jpeg artifacts, cropped, worst quality, low quality, normal quality, jpeg artifacts, signature, watermark, username, artist name, (worst quality, low quality:1.4), bad anatomy\",\n",
    "        \"eta\": 0,\n",
    "        \"s_churn\": 0,\n",
    "        \"s_tmax\": 0,\n",
    "        \"s_tmin\": 0,\n",
    "        \"s_noise\": 1,\n",
    "        \"override_settings\": {},\n",
    "        \"override_settings_restore_afterwards\": true,\n",
    "        \"script_args\": [],\n",
    "        \"sampler_index\": \"DPM++ SDE Karras\",\n",
    "        \"script_name\": \"\",\n",
    "        \"send_images\": true,\n",
    "        \"save_images\": false,\n",
    "        \"alwayson_scripts\": {}\n",
    "    }\n",
    "}\n",
    "END"
   ]
  },
  {
   "cell_type": "code",
   "execution_count": null,
   "id": "56ed36cd-0e28-4a7e-8897-a22241d18234",
   "metadata": {},
   "outputs": [],
   "source": [
    "!curl -X POST -H 'Content-Type: application/json' \"$APIURL\" --data '@./lora.json' "
   ]
  },
  {
   "attachments": {},
   "cell_type": "markdown",
   "id": "b2331fc4-2c49-422a-bd16-4ce5ffd2a402",
   "metadata": {},
   "source": [
    "## Generate images using Lora models\n",
    "\n",
    "LoRA (Low-Rank Adaptation of Large Language Models) models have become the standard to extend the Stable Diffusion models. Let's use Lora model to generate images."
   ]
  },
  {
   "cell_type": "code",
   "execution_count": null,
   "id": "53537c4e-e6ab-4142-89b9-4dc6343a5d09",
   "metadata": {},
   "outputs": [],
   "source": [
    "from sagemaker.serializers import JSONSerializer\n",
    "from sagemaker.deserializers import JSONDeserializer\n",
    "\n",
    "predictor.serializer = JSONSerializer()\n",
    "predictor.deserializer = JSONDeserializer()\n",
    "\n",
    "inputs = {\n",
    "    \"task\": \"text-to-image\",\n",
    "    \"model\": \"v1-5-pruned.ckpt\",\n",
    "    \"txt2img_payload\": {\n",
    "        \"enable_hr\": False,\n",
    "        \"denoising_strength\": 0,\n",
    "        \"hr_scale\": 2,\n",
    "        \"hr_upscaler\": \"\",\n",
    "        \"hr_second_pass_steps\": 0,\n",
    "        \"hr_resize_x\": 0,\n",
    "        \"hr_resize_y\": 0,\n",
    "        \"prompt\": \"yorha no. 2 type b, 1girl, bangs, black blindfold, black dress, black gloves, black hairband, blindfold, blindfold removed, breasts, cleavage cutout, clothing cutout, commentary request, dress, gloves, hairband, half-closed eyes, hand up, highres, io (sinking=carousel), juliet sleeves, long sleeves, looking at viewer, medium breasts, mole, mole under mouth, nier (series), nier automata, no blindfold, parted lips, puffy sleeves, short hair, solo, thighhighs, turtleneck, upper body, white hair, bokeh <lora:2bNierAutomataLora_v2b:0.5>\",\n",
    "        \"styles\": [\"\"],\n",
    "        \"seed\": 2674865251,\n",
    "        \"subseed\": -1,\n",
    "        \"subseed_strength\": 0,\n",
    "        \"seed_resize_from_h\": -1,\n",
    "        \"seed_resize_from_w\": -1,\n",
    "        \"sampler_name\": \"\",\n",
    "        \"batch_size\": 1,\n",
    "        \"n_iter\": 1,\n",
    "        \"steps\": 20,\n",
    "        \"cfg_scale\": 7,\n",
    "        \"width\": 512,\n",
    "        \"height\": 512,\n",
    "        \"restore_faces\": False,\n",
    "        \"tiling\": False,\n",
    "        \"do_not_save_samples\": False,\n",
    "        \"do_not_save_grid\": False,\n",
    "        \"negative_prompt\": \"(worst quality, low quality:1.3)\",\n",
    "        \"eta\": 0,\n",
    "        \"s_churn\": 0,\n",
    "        \"s_tmax\": 0,\n",
    "        \"s_tmin\": 0,\n",
    "        \"s_noise\": 1,\n",
    "        \"override_settings\": {},\n",
    "        \"override_settings_restore_afterwards\": True,\n",
    "        \"script_args\": [],\n",
    "        \"sampler_index\": \"DPM++ SDE Karras\",\n",
    "        \"script_name\": \"\",\n",
    "        \"send_images\": True,\n",
    "        \"save_images\": False,\n",
    "        \"alwayson_scripts\": {},\n",
    "    },\n",
    "}\n",
    "\n",
    "prediction = predictor.predict_async(inputs)"
   ]
  },
  {
   "cell_type": "code",
   "execution_count": null,
   "id": "707dba66-87ae-449d-9a05-304b00df73f4",
   "metadata": {},
   "outputs": [],
   "source": [
    "import json\n",
    "import io\n",
    "\n",
    "s3_resource = boto3.resource(\"s3\")\n",
    "\n",
    "\n",
    "def get_bucket_and_key(s3uri):\n",
    "    pos = s3uri.find(\"/\", 5)\n",
    "    bucket = s3uri[5:pos]\n",
    "    key = s3uri[pos + 1 :]\n",
    "    return bucket, key"
   ]
  },
  {
   "cell_type": "code",
   "execution_count": null,
   "id": "7bbe54f5-541b-47ab-b687-cbc792239000",
   "metadata": {},
   "outputs": [],
   "source": [
    "from sagemaker.async_inference.waiter_config import WaiterConfig\n",
    "\n",
    "print(f\"Response object: {prediction}\")\n",
    "print(f\"Response output path: {prediction.output_path}\")\n",
    "print(\"Start Polling to get response:\")\n",
    "\n",
    "import time\n",
    "\n",
    "start = time.time()\n",
    "\n",
    "config = WaiterConfig(\n",
    "    max_attempts=100, delay=10  #  number of attempts  #  time in seconds to wait between attempts\n",
    ")\n",
    "\n",
    "prediction.get_result(config)\n",
    "\n",
    "print(f\"Time taken: {time.time() - start}s\")"
   ]
  },
  {
   "cell_type": "code",
   "execution_count": null,
   "id": "e3dac8f1-4a91-4548-82b4-5733bfc705a0",
   "metadata": {},
   "outputs": [],
   "source": [
    "import traceback\n",
    "from PIL import Image\n",
    "import uuid\n",
    "from datetime import datetime\n",
    "\n",
    "try:\n",
    "    output_bucket, output_key = get_bucket_and_key(prediction.output_path)\n",
    "    output_obj = s3_resource.Object(output_bucket, output_key)\n",
    "    body = output_obj.get()[\"Body\"].read().decode(\"utf-8\")\n",
    "    for image_uri in json.loads(body)[\"images\"]:\n",
    "        image_bucket, image_key = get_bucket_and_key(image_uri)\n",
    "        image_object = s3_resource.Object(image_bucket, image_key)\n",
    "        image = Image.open(io.BytesIO(image_object.get()[\"Body\"].read()))\n",
    "        image.show()\n",
    "        image.save(datetime.now().strftime(f\"%Y%m%d%H%M%S-{uuid.uuid4()}.jpg\"))\n",
    "except Exception as e:\n",
    "    traceback.print_exc()\n",
    "    print(e)"
   ]
  },
  {
   "attachments": {},
   "cell_type": "markdown",
   "id": "c1b64de1-44c8-4629-a6b1-5970ccbd4318",
   "metadata": {},
   "source": [
    "## Generate images using ControlNet models\n",
    "ControlNet is a neural network structure to control diffusion models by adding extra conditions."
   ]
  },
  {
   "cell_type": "code",
   "execution_count": null,
   "id": "5791ba88-097f-4a04-812a-1649d5a36f37",
   "metadata": {},
   "outputs": [],
   "source": [
    "from PIL import Image\n",
    "import base64\n",
    "import io\n",
    "\n",
    "\n",
    "def encode_image_to_base64(image):\n",
    "    with io.BytesIO() as output_bytes:\n",
    "        image.save(output_bytes, format=\"JPEG\")\n",
    "        bytes_data = output_bytes.getvalue()\n",
    "\n",
    "    encoded_string = base64.b64encode(bytes_data)\n",
    "\n",
    "    base64_str = str(encoded_string, \"utf-8\")\n",
    "    mimetype = \"image/jpeg\"\n",
    "    image_encoded_in_base64 = (\n",
    "        \"data:\" + (mimetype if mimetype is not None else \"\") + \";base64,\" + base64_str\n",
    "    )\n",
    "    return image_encoded_in_base64\n",
    "\n",
    "\n",
    "def decode_base64_to_image(encoding):\n",
    "    if encoding.startswith(\"data:image/\"):\n",
    "        encoding = encoding.split(\";\")[1].split(\",\")[1]\n",
    "    try:\n",
    "        image = Image.open(io.BytesIO(base64.b64decode(encoding)))\n",
    "        return image\n",
    "    except Exception as e:\n",
    "        print(e)"
   ]
  },
  {
   "cell_type": "code",
   "execution_count": null,
   "id": "ca35566c-77b1-43c2-b3cb-b51d6d825ba3",
   "metadata": {},
   "outputs": [],
   "source": [
    "from PIL import Image\n",
    "\n",
    "image = Image.open(\"./images/inference/ControlNet/bal-source.png\").convert(\"RGB\")"
   ]
  },
  {
   "cell_type": "code",
   "execution_count": null,
   "id": "ffcf011e-9c99-4e15-998a-f86d2bbb9731",
   "metadata": {},
   "outputs": [],
   "source": [
    "from sagemaker.serializers import JSONSerializer\n",
    "from sagemaker.deserializers import JSONDeserializer\n",
    "\n",
    "predictor.serializer = JSONSerializer()\n",
    "predictor.deserializer = JSONDeserializer()\n",
    "\n",
    "inputs = {\n",
    "    \"task\": \"text-to-image\",\n",
    "    \"model\": \"v1-5-pruned.ckpt\",\n",
    "    \"txt2img_payload\": {\n",
    "        \"enable_hr\": False,\n",
    "        \"denoising_strength\": 0,\n",
    "        \"hr_scale\": 2,\n",
    "        \"hr_upscaler\": \"\",\n",
    "        \"hr_second_pass_steps\": 0,\n",
    "        \"hr_resize_x\": 0,\n",
    "        \"hr_resize_y\": 0,\n",
    "        \"prompt\": \"ballon\",\n",
    "        \"styles\": [\"\"],\n",
    "        \"seed\": -1,\n",
    "        \"subseed\": -1,\n",
    "        \"subseed_strength\": 0,\n",
    "        \"seed_resize_from_h\": -1,\n",
    "        \"seed_resize_from_w\": -1,\n",
    "        \"sampler_name\": \"\",\n",
    "        \"batch_size\": 1,\n",
    "        \"n_iter\": 1,\n",
    "        \"steps\": 20,\n",
    "        \"cfg_scale\": 7,\n",
    "        \"width\": 512,\n",
    "        \"height\": 512,\n",
    "        \"restore_faces\": False,\n",
    "        \"tiling\": False,\n",
    "        \"do_not_save_samples\": False,\n",
    "        \"do_not_save_grid\": False,\n",
    "        \"negative_prompt\": \"\",\n",
    "        \"eta\": 0,\n",
    "        \"s_churn\": 0,\n",
    "        \"s_tmax\": 0,\n",
    "        \"s_tmin\": 0,\n",
    "        \"s_noise\": 1,\n",
    "        \"override_settings\": {},\n",
    "        \"override_settings_restore_afterwards\": True,\n",
    "        \"script_args\": [],\n",
    "        \"sampler_index\": \"DPM++ SDE Karras\",\n",
    "        \"script_name\": \"\",\n",
    "        \"send_images\": True,\n",
    "        \"save_images\": False,\n",
    "        \"alwayson_scripts\": {\n",
    "            \"controlnet\": {\n",
    "                \"args\": [\n",
    "                    {\n",
    "                        \"enabled\": True,\n",
    "                        \"module\": \"none\",\n",
    "                        \"model\": \"control_sd15_canny [fef5e48e]\",\n",
    "                        \"weight\": 1,\n",
    "                        \"image\": encode_image_to_base64(image),\n",
    "                        \"low_vram\": False,\n",
    "                        \"processor_res\": 64,\n",
    "                        \"threshold_a\": 64,\n",
    "                        \"threshold_b\": 64,\n",
    "                        \"guidance_start\": 0,\n",
    "                        \"guidance_end\": 1,\n",
    "                        \"guess_mode\": False,\n",
    "                    }\n",
    "                ]\n",
    "            }\n",
    "        },\n",
    "    },\n",
    "}\n",
    "\n",
    "prediction = predictor.predict_async(inputs)"
   ]
  },
  {
   "cell_type": "code",
   "execution_count": null,
   "id": "f9aea3ec-d733-4865-b68b-583eb77140de",
   "metadata": {},
   "outputs": [],
   "source": [
    "from sagemaker.async_inference.waiter_config import WaiterConfig\n",
    "\n",
    "print(f\"Response object: {prediction}\")\n",
    "print(f\"Response output path: {prediction.output_path}\")\n",
    "print(\"Start Polling to get response:\")\n",
    "\n",
    "import time\n",
    "\n",
    "start = time.time()\n",
    "\n",
    "config = WaiterConfig(\n",
    "    max_attempts=100, delay=10  #  number of attempts  #  time in seconds to wait between attempts\n",
    ")\n",
    "\n",
    "prediction.get_result(config)\n",
    "\n",
    "print(f\"Time taken: {time.time() - start}s\")"
   ]
  },
  {
   "cell_type": "code",
   "execution_count": null,
   "id": "3799eada-f3e2-4ca9-879c-9ab351042a72",
   "metadata": {},
   "outputs": [],
   "source": [
    "import traceback\n",
    "from PIL import Image\n",
    "import uuid\n",
    "from datetime import datetime\n",
    "\n",
    "try:\n",
    "    output_bucket, output_key = get_bucket_and_key(prediction.output_path)\n",
    "    output_obj = s3_resource.Object(output_bucket, output_key)\n",
    "    body = output_obj.get()[\"Body\"].read().decode(\"utf-8\")\n",
    "    for image_uri in json.loads(body)[\"images\"]:\n",
    "        image_bucket, image_key = get_bucket_and_key(image_uri)\n",
    "        image_object = s3_resource.Object(image_bucket, image_key)\n",
    "        image = Image.open(io.BytesIO(image_object.get()[\"Body\"].read()))\n",
    "        image.show()\n",
    "        image.save(datetime.now().strftime(f\"%Y%m%d%H%M%S-{uuid.uuid4()}.jpg\"))\n",
    "except Exception as e:\n",
    "    traceback.print_exc()\n",
    "    print(e)"
   ]
  },
  {
   "attachments": {},
   "cell_type": "markdown",
   "id": "0c9f3c1b-0d23-4830-a720-ea1f8b92405e",
   "metadata": {},
   "source": [
    "## [Optional] Create auto-scaling group for SageMaker endpoint in case you want to scale it based on specific metrics automatically."
   ]
  },
  {
   "cell_type": "code",
   "execution_count": null,
   "id": "e5bc9955-c642-4c09-96e4-968de0ce6c5c",
   "metadata": {},
   "outputs": [],
   "source": [
    "def create_autoscaling_group_for_sagemaker_endpoint(\n",
    "    endpoint_name, min_capcity=1, max_capcity=2, target_value=5\n",
    "):\n",
    "    # application-autoscaling client\n",
    "    asg_client = boto3.client(\"application-autoscaling\")\n",
    "\n",
    "    # This is the format in which application autoscaling references the endpoint\n",
    "    resource_id = f\"endpoint/{endpoint_name}/variant/AllTraffic\"\n",
    "\n",
    "    # Configure Autoscaling on asynchronous endpoint down to zero instances\n",
    "    response = asg_client.register_scalable_target(\n",
    "        ServiceNamespace=\"sagemaker\",\n",
    "        ResourceId=resource_id,\n",
    "        ScalableDimension=\"sagemaker:variant:DesiredInstanceCount\",\n",
    "        MinCapacity=min_capcity,\n",
    "        MaxCapacity=max_capcity,\n",
    "    )\n",
    "\n",
    "    response = asg_client.put_scaling_policy(\n",
    "        PolicyName=f\"Request-ScalingPolicy-{endpoint_name}\",\n",
    "        ServiceNamespace=\"sagemaker\",\n",
    "        ResourceId=resource_id,\n",
    "        ScalableDimension=\"sagemaker:variant:DesiredInstanceCount\",\n",
    "        PolicyType=\"TargetTrackingScaling\",\n",
    "        TargetTrackingScalingPolicyConfiguration={\n",
    "            \"TargetValue\": target_value,\n",
    "            \"CustomizedMetricSpecification\": {\n",
    "                \"MetricName\": \"ApproximateBacklogSizePerInstance\",\n",
    "                \"Namespace\": \"AWS/SageMaker\",\n",
    "                \"Dimensions\": [{\"Name\": \"EndpointName\", \"Value\": endpoint_name}],\n",
    "                \"Statistic\": \"Average\",\n",
    "            },\n",
    "            \"ScaleInCooldown\": 600,  # duration until scale in begins (down to zero)\n",
    "            \"ScaleOutCooldown\": 300,  # duration between scale out attempts\n",
    "        },\n",
    "    )\n",
    "\n",
    "\n",
    "create_autoscaling_group_for_sagemaker_endpoint(predictor.endpoint_name)"
   ]
  },
  {
   "cell_type": "code",
   "execution_count": null,
   "id": "b680d8cf-2b99-441f-bb8e-9a5a44ff5ad0",
   "metadata": {},
   "outputs": [],
   "source": [
    "## Resource cleanup."
   ]
  },
  {
   "cell_type": "code",
   "execution_count": null,
   "id": "e41935b9-16ad-47ab-8be5-de83ac0d03da",
   "metadata": {},
   "outputs": [],
   "source": [
    "predictor.delete_endpoint()"
   ]
  },
  {
   "cell_type": "code",
   "execution_count": null,
   "id": "fab35e64-4ee8-4ef1-a506-fa5743f35b3c",
   "metadata": {},
   "outputs": [],
   "source": []
  }
 ],
 "metadata": {
  "kernelspec": {
   "display_name": "conda_amazonei_pytorch_latest_p37",
   "language": "python",
   "name": "conda_amazonei_pytorch_latest_p37"
  },
  "language_info": {
   "codemirror_mode": {
    "name": "ipython",
    "version": 3
   },
   "file_extension": ".py",
   "mimetype": "text/x-python",
   "name": "python",
   "nbconvert_exporter": "python",
   "pygments_lexer": "ipython3",
   "version": "3.7.10"
  }
 },
 "nbformat": 4,
 "nbformat_minor": 5
}
