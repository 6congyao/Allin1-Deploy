{
 "cells": [
  {
   "cell_type": "code",
   "execution_count": null,
   "id": "5093bea5-9419-442a-ba19-ec7411427bb1",
   "metadata": {},
   "outputs": [],
   "source": [
    "## 以下脚本用于部署 Allin1 WebUI GUI"
   ]
  },
  {
   "attachments": {},
   "cell_type": "markdown",
   "id": "4a0ef32c",
   "metadata": {},
   "source": [
    "## 代码及Web环境部署"
   ]
  },
  {
   "cell_type": "code",
   "execution_count": 8,
   "id": "b7f570fa-5327-48ca-a197-c9fb1a9aa9aa",
   "metadata": {
    "tags": []
   },
   "outputs": [
    {
     "name": "stdout",
     "output_type": "stream",
     "text": [
      "Removing login credentials for public.ecr.aws\n"
     ]
    }
   ],
   "source": [
    "%%bash\n",
    "sudo chown -R ec2-user:ec2-user .\n",
    "docker logout public.ecr.aws"
   ]
  },
  {
   "cell_type": "code",
   "execution_count": null,
   "id": "9b359184-f722-4597-9720-5c632a7f763f",
   "metadata": {},
   "outputs": [],
   "source": [
    "%%bash\n",
    "git clone --recurse-submodules -j8 https://YOUR_GIT_PRIVATE_KEY@github.com/xieyongliang/all-in-one-ai.git\n",
    "git pull --recurse-submodules -j8"
   ]
  },
  {
   "cell_type": "code",
   "execution_count": null,
   "id": "85886fe3",
   "metadata": {},
   "outputs": [],
   "source": [
    "#准备相关代码,此步骤执行时间较长,请耐心等待."
   ]
  },
  {
   "cell_type": "code",
   "execution_count": 9,
   "id": "2170c605-7bee-400f-ba1b-bbaea8a2b296",
   "metadata": {
    "scrolled": true,
    "tags": []
   },
   "outputs": [
    {
     "name": "stderr",
     "output_type": "stream",
     "text": [
      "set -e\n",
      "#\n",
      "\n",
      "# This script should be run from the repo's backend directory\n",
      "#\n",
      "#\n",
      "# Get s3uri and region from command line\n",
      "s3uri=$1\n",
      "region=$2\n",
      "\n",
      "# Get reference for all important folders\n",
      "backend_dir=\"$PWD\"\n",
      "project_dir=\"$backend_dir/..\"\n",
      "build_dist_dir=\"$backend_dir/build/codes\"\n",
      "source_dir=\"$backend_dir/src\"\n",
      "build_dir=\"$backend_dir/build/tmp\"\n",
      "\n",
      "echo \"------------------------------------------------------------------------------\"\n",
      "echo \"[Init] Clean old dist folders\"\n",
      "echo \"------------------------------------------------------------------------------\"\n",
      "echo \"rm -rf $build_dist_dir\"\n",
      "rm -rf $build_dist_dir\n",
      "echo \"mkdir -p $build_dist_dir\"\n",
      "mkdir -p $build_dist_dir\n",
      "\n",
      "mkdir -p ${build_dir}/\n",
      "\n",
      "echo \"------------------------------------------------------------------------------\"\n",
      "echo \"[Rebuild] all_in_one_ai_helper lambda functions\"\n",
      "echo \"------------------------------------------------------------------------------\"\n",
      "\n",
      "echo ${source_dir}\n",
      "cd ${source_dir}/all_in_one_ai_helper\n",
      "rm -r ${build_dir}\n",
      "\n",
      "mkdir -p ${build_dir}/python/\n",
      "\n",
      "if [[ $region =~ ^cn.* ]]\n",
      "then\n",
      "    pip3 install elasticsearch -t ${build_dir}/python/ -i https://opentuna.cn/pypi/web/simple\n",
      "else\n",
      "    pip3 install elasticsearch -t ${build_dir}/python/\n",
      "fi\n",
      "ERROR: pip's dependency resolver does not currently take into account all the packages that are installed. This behaviour is the source of the following dependency conflicts.\n",
      "jupyterlab-server 2.18.0 requires jsonschema>=4.17.3, but you have jsonschema 3.2.0 which is incompatible.\n",
      "\n",
      "cp -R *.py ${build_dir}/python/\n",
      "cd ${build_dir}\n",
      "zip -r9 all_in_one_ai_helper.zip python\n",
      "cp ${build_dir}/all_in_one_ai_helper.zip $build_dist_dir/all_in_one_ai_helper.zip\n",
      "rm ${build_dir}/all_in_one_ai_helper.zip\n",
      "\n",
      "echo \"------------------------------------------------------------------------------\"\n",
      "echo \"[Rebuild] all_in_one_ai_sagemaker lambda functions\"\n",
      "echo \"------------------------------------------------------------------------------\"\n",
      "\n",
      "echo ${source_dir}\n",
      "cd ${source_dir}/all_in_one_ai_sagemaker\n",
      "rm -r ${build_dir}\n",
      "\n",
      "mkdir -p ${build_dir}/python/\n",
      "\n",
      "cp -R * ${build_dir}/python/\n",
      "cd ${build_dir}\n",
      "zip -r9 all_in_one_ai_sagemaker.zip python\n",
      "cp ${build_dir}/all_in_one_ai_sagemaker.zip $build_dist_dir/all_in_one_ai_sagemaker.zip\n",
      "rm ${build_dir}/all_in_one_ai_sagemaker.zip\n",
      "\n",
      "echo \"------------------------------------------------------------------------------\"\n",
      "echo \"[Rebuild] all_in_one_ai_tools lambda functions\"\n",
      "echo \"------------------------------------------------------------------------------\"\n",
      "\n",
      "cp ${source_dir}/all_in_one_ai_tools/all_in_one_ai_tools.zip $build_dist_dir/all_in_one_ai_tools.zip\n",
      "\n",
      "echo \"------------------------------------------------------------------------------\"\n",
      "echo \"[Rebuild] other all_in_one_ai_list_* lambda functions\"\n",
      "echo \"------------------------------------------------------------------------------\"\n",
      "\n",
      "lambda_folders=\"\n",
      "all_in_one_ai_list_endpoints\n",
      "all_in_one_ai_list_models\n",
      "all_in_one_ai_list_training_jobs\n",
      "all_in_one_ai_list_transform_jobs\n",
      "\"\n",
      "\n",
      "for lambda_folder in $lambda_folders; do\n",
      "    # build and copy console distribution files\n",
      "    echo ${source_dir}\n",
      "    cd ${source_dir}/${lambda_folder}\n",
      "    echo ${build_dir}\n",
      "    rm -r ${build_dir}\n",
      "\n",
      "    mkdir -p ${build_dir}/\n",
      "    cp -R * ${build_dir}/\n",
      "    pip3 install cachetools -t ${build_dir}/\n",
      "    cd ${build_dir}\n",
      "    zip -r9 ${lambda_folder}.zip .\n",
      "    cp ${build_dir}/${lambda_folder}.zip $build_dist_dir/${lambda_folder}.zip\n",
      "    rm ${build_dir}/${lambda_folder}.zip\n",
      "done\n",
      "\n",
      "echo \"------------------------------------------------------------------------------\"\n",
      "echo \"[Rebuild] other all_in_one_ai_* lambda functions\"\n",
      "echo \"------------------------------------------------------------------------------\"\n",
      "\n",
      "\n",
      "lambda_folders=\"\n",
      "all_in_one_ai_add_permission\n",
      "all_in_one_ai_annotation\n",
      "all_in_one_ai_api\n",
      "all_in_one_ai_create_api\n",
      "all_in_one_ai_create_deploy_generic\n",
      "all_in_one_ai_create_deploy_huggingface\n",
      "all_in_one_ai_create_deploy_pytorch\n",
      "all_in_one_ai_create_deploy_mxnet\n",
      "all_in_one_ai_create_deploy_tensorflow\n",
      "all_in_one_ai_create_endpoint\n",
      "all_in_one_ai_create_model\n",
      "all_in_one_ai_create_pipeline\n",
      "all_in_one_ai_create_pipeline_helper\n",
      "all_in_one_ai_create_s3_event_notification\n",
      "all_in_one_ai_create_train_generic\n",
      "all_in_one_ai_create_train_huggingface\n",
      "all_in_one_ai_create_train_pytorch\n",
      "all_in_one_ai_create_train_mxnet\n",
      "all_in_one_ai_create_train_tensorflow\n",
      "all_in_one_ai_create_training_job\n",
      "all_in_one_ai_create_transform_job\n",
      "all_in_one_ai_delete_endpoint\n",
      "all_in_one_ai_delete_model\n",
      "all_in_one_ai_delete_s3_event_notification\n",
      "all_in_one_ai_deploy\n",
      "all_in_one_ai_describe_endpoint\n",
      "all_in_one_ai_describe_model\n",
      "all_in_one_ai_describe_pipeline_execution\n",
      "all_in_one_ai_describe_training_job\n",
      "all_in_one_ai_describe_transform_job\n",
      "all_in_one_ai_endpoint\n",
      "all_in_one_ai_finalize_pipeline\n",
      "all_in_one_ai_function\n",
      "all_in_one_ai_greengrass_component_version\n",
      "all_in_one_ai_greengrass_core_devices\n",
      "all_in_one_ai_greengrass_create_component_version\n",
      "all_in_one_ai_greengrass_create_deployment\n",
      "all_in_one_ai_greengrass_deployment\n",
      "all_in_one_ai_greengrass_thing_groups\n",
      "all_in_one_ai_import_opensearch\n",
      "all_in_one_ai_import_opensearch_async\n",
      "all_in_one_ai_import_opensearch_sync\n",
      "all_in_one_ai_import_opensearch_async_helper\n",
      "all_in_one_ai_import_opensearch_sync_helper\n",
      "all_in_one_ai_industrial_model\n",
      "all_in_one_ai_inference\n",
      "all_in_one_ai_inference_post_process\n",
      "all_in_one_ai_invoke_endpoint\n",
      "all_in_one_ai_model\n",
      "all_in_one_ai_model_package\n",
      "all_in_one_ai_model_package_group\n",
      "all_in_one_ai_pipeline\n",
      "all_in_one_ai_remove_permission\n",
      "all_in_one_ai_s3\n",
      "all_in_one_ai_sd_hypernetwork\n",
      "all_in_one_ai_sd_industrial_model\n",
      "all_in_one_ai_sd_login\n",
      "all_in_one_ai_sd_model\n",
      "all_in_one_ai_sd_user\n",
      "all_in_one_ai_search_by_image\n",
      "all_in_one_ai_stop_training_job\n",
      "all_in_one_ai_stop_transform_job\n",
      "all_in_one_ai_train\n",
      "all_in_one_ai_training_job\n",
      "all_in_one_ai_transform_job\n",
      "all_in_one_ai_transform_job_review\n",
      "all_in_one_ai_process\n",
      "all_in_one_ai_websocket_connect\n",
      "all_in_one_ai_websocket_disconnect\n",
      "all_in_one_ai_websocket_send_message\"\n",
      "\n",
      "for lambda_folder in $lambda_folders; do\n",
      "    # build and copy console distribution files\n",
      "    echo ${source_dir}\n",
      "    cd ${source_dir}/${lambda_folder}\n",
      "    echo ${build_dir}\n",
      "    rm -r ${build_dir}\n",
      "\n",
      "    mkdir -p ${build_dir}/\n",
      "    cp -R * ${build_dir}/\n",
      "    cd ${build_dir}\n",
      "    zip -r9 ${lambda_folder}.zip .\n",
      "    cp ${build_dir}/${lambda_folder}.zip $build_dist_dir/${lambda_folder}.zip\n",
      "    rm ${build_dir}/${lambda_folder}.zip\n",
      "done\n",
      "\n",
      "aws s3 cp ${project_dir}/backend/build/codes ${s3uri}/codes --recursive --region ${region}\n",
      "aws s3 cp ${project_dir}/backend/assets/greengrass  ${s3uri}/algorithms/yolov5/greengrass/ --recursive --region ${region}\n",
      "set -e\n",
      "\n",
      "# This script shows how to build the Docker image and push it to ECR to be ready for use\n",
      "# by SageMaker.\n",
      "\n",
      "if [ \"$#\" -lt 1 ] || [ \"$#\" -gt 2 ]; then\n",
      "    echo \"usage: $0 [region_name] [image_type]\"\n",
      "    exit 1\n",
      "fi\n",
      "\n",
      "region=\"$1\"\n",
      "image_type=\"$2\"\n",
      "\n",
      "# Get the account number associated with the current IAM credentials\n",
      "account=$(aws sts get-caller-identity --query Account --output text)\n",
      "if [ \"$?\" -ne 0 ]; then\n",
      "    exit 255\n",
      "fi\n",
      "\n",
      "# image_type: training, inference, process, webui\n",
      "function build_and_push_image() {\n",
      "    local image_type=\"$1\"\n",
      "\n",
      "    if [ \"$image_type\" == \"webui\" ]; then\n",
      "\timage_name=\"all-in-one-ai-stable-diffusion-webui\"\n",
      "    else\n",
      "\timage_name=\"all-in-one-ai-stable-diffusion-webui-$image_type\"\n",
      "    fi\n",
      "    image_fullname=\"${account}.dkr.ecr.${region}.amazonaws.com/${image_name}:latest\"\n",
      "    ecr_repo_uri=\"${account}.dkr.ecr.${region}.amazonaws.com\"\n",
      "\n",
      "    # If the repository doesn't exist in ECR, create it\n",
      "    aws ecr describe-repositories --repository-names \"${image_name}\" --region \"${region}\" || aws ecr create-repository --repository-name \"${image_name}\" --region \"${region}\"\n",
      "\n",
      "    # Get the login command from ECR and execute it directly\n",
      "    aws ecr get-login-password --region \"${region}\" | \\\n",
      "\tdocker login --username AWS --password-stdin \"${ecr_repo_uri}\"\n",
      "\n",
      "    aws ecr set-repository-policy \\\n",
      "        --repository-name \"${image_name}\" \\\n",
      "        --policy-text \"file://ecr-policy.json\" \\\n",
      "        --region \"${region}\"\n",
      "\n",
      "    # Build the docker image locally with the image name and then push it to ECR\n",
      "    # with the full name.\n",
      "    docker build -t \"${image_name}\" -f Dockerfile.${image_type} .\n",
      "    docker tag \"${image_name}\" \"${image_fullname}\"\n",
      "    docker push \"${image_fullname}\"\n",
      "}\n",
      "\n",
      "if [ -z \"${image_type}\" ]; then\n",
      "    # Build all if no image type specified\n",
      "    build_and_push_image \"webui\"\n",
      "    build_and_push_image \"training\"\n",
      "    build_and_push_image \"inference\"\n",
      "    build_and_push_image \"process\"\n",
      "else\n",
      "    build_and_push_image \"${image_type}\"\n",
      "fi\n",
      "WARNING! Your password will be stored unencrypted in /home/ec2-user/.docker/config.json.\n",
      "Configure a credential helper to remove this warning. See\n",
      "https://docs.docker.com/engine/reference/commandline/login/#credentials-store\n",
      "\n",
      "WARNING! Your password will be stored unencrypted in /home/ec2-user/.docker/config.json.\n",
      "Configure a credential helper to remove this warning. See\n",
      "https://docs.docker.com/engine/reference/commandline/login/#credentials-store\n",
      "\n",
      "\n",
      "An error occurred (RepositoryNotFoundException) when calling the DescribeRepositories operation: The repository with name 'all-in-one-ai-stable-diffusion-webui-inference' does not exist in the registry with id '544592066775'\n",
      "WARNING! Your password will be stored unencrypted in /home/ec2-user/.docker/config.json.\n",
      "Configure a credential helper to remove this warning. See\n",
      "https://docs.docker.com/engine/reference/commandline/login/#credentials-store\n",
      "\n",
      "\n",
      "An error occurred (RepositoryNotFoundException) when calling the DescribeRepositories operation: The repository with name 'all-in-one-ai-stable-diffusion-webui-process' does not exist in the registry with id '544592066775'\n",
      "WARNING! Your password will be stored unencrypted in /home/ec2-user/.docker/config.json.\n",
      "Configure a credential helper to remove this warning. See\n",
      "https://docs.docker.com/engine/reference/commandline/login/#credentials-store\n",
      "\n",
      "set -e\n",
      "# This script shows how to build the Docker image and push it to ECR to be ready for use\n",
      "# by SageMaker.\n",
      "\n",
      "# The argument to this script is the image name. This will be used as the image on the local\n",
      "# machine and combined with the account and region to form the repository name for ECR.\n",
      "if [ \"$#\" -ne 1 ]; then\n",
      "    echo \"usage: $0 [region-name]\"\n",
      "    exit 1\n",
      "fi\n",
      "\n",
      "image=\"all-in-one-ai-web\"\n",
      "\n",
      "# Get the account number associated with the current IAM credentials\n",
      "account=$(aws sts get-caller-identity --query Account --output text)\n",
      "\n",
      "# Get the region defined in the current configuration\n",
      "region=$1\n",
      "\n",
      "if [[ $region =~ ^cn.* ]]\n",
      "then\n",
      "    fullname=\"${account}.dkr.ecr.${region}.amazonaws.com.cn/${image}:latest\"\n",
      "    aws_endpoint=\"amazonaws.com.cn\"\n",
      "else\n",
      "    fullname=\"${account}.dkr.ecr.${region}.amazonaws.com/${image}:latest\"\n",
      "    aws_endpoint=\"amazonaws.com\"\n",
      "fi\n",
      "\n",
      "echo ${fullname}\n",
      "\n",
      "# If the repository doesn't exist in ECR, create it.\n",
      "aws ecr describe-repositories --repository-names \"${image}\" --region ${region} || aws ecr create-repository --repository-name \"${image}\" --region ${region}\n",
      "\n",
      "An error occurred (RepositoryNotFoundException) when calling the DescribeRepositories operation: The repository with name 'all-in-one-ai-web' does not exist in the registry with id '544592066775'\n",
      "\n",
      "if [ $? -ne 0 ]\n",
      "then\n",
      "    aws ecr create-repository --repository-name \"${image}\" --region ${region}\n",
      "fi\n",
      "\n",
      "aws ecr get-login-password --region ${region} | docker login --username AWS --password-stdin ${account}.dkr.ecr.${region}.${aws_endpoint}\n",
      "WARNING! Your password will be stored unencrypted in /home/ec2-user/.docker/config.json.\n",
      "Configure a credential helper to remove this warning. See\n",
      "https://docs.docker.com/engine/reference/commandline/login/#credentials-store\n",
      "\n",
      "\n",
      "aws ecr set-repository-policy \\\n",
      "    --repository-name \"${image}\" \\\n",
      "    --policy-text \"file://ecr-policy.json\" \\\n",
      "    --region ${region}\n",
      "\n",
      "# Build the docker image, tag with full name and then push it to ECR\n",
      "docker build -t ${image} -f Dockerfile .\n",
      "\n",
      "docker tag ${image} ${fullname}\n",
      "docker push ${fullname}\n",
      "\n"
     ]
    }
   ],
   "source": [
    "import boto3\n",
    "import os\n",
    "account_id = boto3.client(\"sts\").get_caller_identity().get(\"Account\")\n",
    "region_name = boto3.session.Session().region_name\n",
    "os.chdir('/home/ec2-user/SageMaker/Allin1-Deploy/all-in-one-ai/deployment')\n",
    "s3uri = os.getenv('s3uri')\n",
    "cmd = \"/bin/sh ./build_and_deploy.sh s3://%s %s stable-diffusion-webui >>bb.log\" % (\n",
    "    s3uri, region_name)\n",
    "print(cmd)\n",
    "os.system(cmd)"
   ]
  },
  {
   "cell_type": "code",
   "execution_count": 137,
   "id": "542ddbd0-1b4c-4879-ba2a-affa791d7fb3",
   "metadata": {
    "tags": []
   },
   "outputs": [
    {
     "name": "stdout",
     "output_type": "stream",
     "text": [
      "{\n",
      "    \"StackId\": \"arn:aws:cloudformation:ap-northeast-1:544592066775:stack/allin1ai-gui1/d37c0430-02cf-11ee-a035-0eb3fa885329\"\n",
      "}\n"
     ]
    }
   ],
   "source": [
    "%%bash\n",
    "all_az=()\n",
    "cfn=$(aws s3 presign s3://$s3uri/templates/all-in-one-ai-webui-main.yaml | cut -d '?' -f 1)\n",
    "az_per_region=$(aws ec2 describe-availability-zones --query 'AvailabilityZones[*].[ZoneName]' --output text | sort)                                                                             \n",
    "  while read -r az; do                                                             \n",
    "     all_az+=($az)                                                                  \n",
    "  done <<< \"$az_per_region\" \n",
    "\n",
    "aws cloudformation create-stack --stack-name allin1ai-gui \\\n",
    "    --template-url $cfn \\\n",
    "    --parameters \\\n",
    "    ParameterKey=WebUIDomainName,ParameterValue=\"\" \\\n",
    "    ParameterKey=UserPoolDomain,ParameterValue=\"\" \\\n",
    "    ParameterKey=DomainName,ParameterValue=\"\" \\\n",
    "    ParameterKey=CognitoRegion,ParameterValue=\"\" \\\n",
    "    ParameterKey=UserPool,ParameterValue=\"\" \\\n",
    "    ParameterKey=UserPoolClient,ParameterValue=\"\" \\\n",
    "    ParameterKey=Certificate,ParameterValue=\"\" \\\n",
    "    ParameterKey=AvailabilityZones,ParameterValue=${all_az[0]}\\\\,${all_az[1]}\\\\,${all_az[2]} \\\n",
    "    ParameterKey=S3Bucket,ParameterValue=$s3uri \\\n",
    "    ParameterKey=S3Key,ParameterValue=\"\" \\\n",
    "    --capabilities CAPABILITY_NAMED_IAM"
   ]
  },
  {
   "cell_type": "code",
   "execution_count": 22,
   "id": "87f1f071-2d02-4a5d-9b33-06b94068ea71",
   "metadata": {
    "tags": []
   },
   "outputs": [
    {
     "name": "stdout",
     "output_type": "stream",
     "text": [
      "\"CREATE_IN_PROGRESS\"\n"
     ]
    }
   ],
   "source": [
    "!aws cloudformation describe-stacks --stack-name allin1ai-gui --output json --query 'Stacks[0].StackStatus'"
   ]
  },
  {
   "cell_type": "code",
   "execution_count": 20,
   "id": "692162ae-f638-4d8a-a5b4-29354e4f4d3b",
   "metadata": {
    "tags": []
   },
   "outputs": [],
   "source": [
    "WebUI_URL=\"$(aws cloudformation describe-stacks --stack-name allin1ai-api --output text --query 'Stacks[0].Outputs[?OutputKey==`WebUIPortalUrl`].OutputValue')\""
   ]
  },
  {
   "cell_type": "code",
   "execution_count": 152,
   "id": "8facfc37-51b9-41fd-9a14-d80f99665b1a",
   "metadata": {
    "tags": []
   },
   "outputs": [
    {
     "name": "stdout",
     "output_type": "stream",
     "text": [
      "https://sl5h9soz0e.execute-api.eu-central-1.amazonaws.com/Prod\n"
     ]
    }
   ],
   "source": [
    "!echo $WebUI_URL"
   ]
  },
  {
   "attachments": {},
   "cell_type": "markdown",
   "id": "a5bf7e3c-8491-410e-a4a9-3eb2caefeb29",
   "metadata": {},
   "source": [
    "## 上传模型"
   ]
  },
  {
   "cell_type": "code",
   "execution_count": null,
   "id": "dd7c0690-8f0c-4719-a539-29cb615e5ff0",
   "metadata": {},
   "outputs": [],
   "source": [
    "import sagemaker\n",
    "sagemaker_session = sagemaker.Session()\n",
    "bucket = sagemaker_session.default_bucket()"
   ]
  },
  {
   "attachments": {},
   "cell_type": "markdown",
   "id": "9535b60e-b4d6-4013-bcc1-743f12ab6bc6",
   "metadata": {},
   "source": [
    "如果启动时只选机型和数量，则可以通过动态加载默认S3中的模型⽂件。\n",
    "Sagemaker节点启动成功后, 每30s从默认的s3 位置s3://sagemaker-{region_name}-\n",
    "{account_id}/stable-diffusion-webui/models/同步模型⽂件到sagemaker节点的本地⽬录下。⽀\n",
    "持Stable-diffusion, Lora, ControlNet模型的动态加载同步。如：\n",
    "\n",
    "• s3://$bucket/stable-diffusion-webui/models/Stable-diffusion/\n",
    "\n",
    "• s3://$bucket/stable-diffusion-webui/models/ControlNet/\n",
    "\n",
    "• s3://$bucket/stable-diffusion-webui/models/Lora/\n"
   ]
  },
  {
   "cell_type": "code",
   "execution_count": 140,
   "id": "a0239669-9ea4-4cda-addd-a8e51ae97f29",
   "metadata": {
    "tags": []
   },
   "outputs": [
    {
     "name": "stdout",
     "output_type": "stream",
     "text": [
      "sagemaker-ap-northeast-1-544592066775\n"
     ]
    }
   ],
   "source": [
    "!echo $bucket"
   ]
  },
  {
   "cell_type": "code",
   "execution_count": null,
   "id": "42e5de62-e31f-44f3-ac90-d224ee50feae",
   "metadata": {},
   "outputs": [],
   "source": [
    "#如果没有上述文件夹可以通过如下命令创建"
   ]
  },
  {
   "cell_type": "code",
   "execution_count": null,
   "id": "8f6ad511-323d-4cde-bbdd-7317eb40cc3c",
   "metadata": {},
   "outputs": [],
   "source": [
    "%bash\n",
    "aws s3api put-object --bucket $bucket --key stable-diffusion-webui/models/Stable-diffusion/\n",
    "aws s3api put-object --bucket $bucket --key stable-diffusion-webui/models/ControlNet/\n",
    "aws s3api put-object --bucket $bucket --key stable-diffusion-webui/models/Lora/"
   ]
  },
  {
   "attachments": {},
   "cell_type": "markdown",
   "id": "bdb3ab97-326f-470f-99f7-2778bdeb5d29",
   "metadata": {},
   "source": [
    "## 登录Web UI"
   ]
  },
  {
   "cell_type": "code",
   "execution_count": null,
   "id": "07ea0425-4b3d-4206-bf8a-500a8efd093c",
   "metadata": {},
   "outputs": [],
   "source": [
    "%%bash\n",
    "Admin_info=\"$(aws cloudformation describe-stacks --stack-name allin1ai-GUI --output text --query 'Stacks[0].Outputs[?OutputKey==`Administratorlogin`].OutputValue'| cut -d \":\" -f 7)\""
   ]
  },
  {
   "cell_type": "code",
   "execution_count": null,
   "id": "fefa359b-3f00-4eb0-8aa9-f5805c48ad59",
   "metadata": {},
   "outputs": [],
   "source": [
    "#获取登录密码"
   ]
  },
  {
   "cell_type": "code",
   "execution_count": null,
   "id": "91b788ae-c3d2-42df-a698-6b68057236b0",
   "metadata": {},
   "outputs": [],
   "source": [
    "%%bash\n",
    "cd /home/ec2-user/SageMaker/Allin1-Deploy/all-in-one-ai/sagemaker/stable-diffusion-webui/tools\n",
    "./secretmanager.sh $Admin_info $region_name get"
   ]
  },
  {
   "cell_type": "code",
   "execution_count": null,
   "id": "045b4ca0-22a1-49f5-b9a3-ffbf96d57153",
   "metadata": {},
   "outputs": [],
   "source": [
    "#登录"
   ]
  },
  {
   "cell_type": "code",
   "execution_count": null,
   "id": "89a71ca8-c972-4828-a8f3-73c6ea14a117",
   "metadata": {},
   "outputs": [],
   "source": [
    "!echo $WebUI_URL"
   ]
  }
 ],
 "metadata": {
  "kernelspec": {
   "display_name": "conda_amazonei_pytorch_latest_p37",
   "language": "python",
   "name": "conda_amazonei_pytorch_latest_p37"
  },
  "language_info": {
   "codemirror_mode": {
    "name": "ipython",
    "version": 3
   },
   "file_extension": ".py",
   "mimetype": "text/x-python",
   "name": "python",
   "nbconvert_exporter": "python",
   "pygments_lexer": "ipython3",
   "version": "3.7.10"
  }
 },
 "nbformat": 4,
 "nbformat_minor": 5
}
