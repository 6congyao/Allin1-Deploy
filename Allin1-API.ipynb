{
 "cells": [
  {
   "cell_type": "code",
   "execution_count": null,
   "id": "5093bea5-9419-442a-ba19-ec7411427bb1",
   "metadata": {},
   "outputs": [],
   "source": [
    "## 以下脚本用于部署 Allin1 WebUI API"
   ]
  },
  {
   "cell_type": "code",
   "execution_count": null,
   "id": "2170c605-7bee-400f-ba1b-bbaea8a2b296",
   "metadata": {},
   "outputs": [],
   "source": [
    "import boto3\n",
    "account_id = boto3.client(\"sts\").get_caller_identity().get(\"Account\")\n",
    "region_name = boto3.session.Session().region_name"
   ]
  },
  {
   "cell_type": "code",
   "execution_count": null,
   "id": "9b359184-f722-4597-9720-5c632a7f763f",
   "metadata": {},
   "outputs": [],
   "source": [
    "!git clone https://YOUR_GIT_PRIVATE_KEY@github.com/xieyongliang/stable-diffusion-webui-api"
   ]
  },
  {
   "cell_type": "code",
   "execution_count": null,
   "id": "35cd5ef9-cad1-4402-8c6e-152e85037083",
   "metadata": {},
   "outputs": [],
   "source": [
    "%%bash\n",
    "cd stable-diffusion-webui-api/extras/deployment/\n",
    "docker logout public.ecr.aws"
   ]
  },
  {
   "cell_type": "code",
   "execution_count": null,
   "id": "b8b8279d-6578-4509-8039-6466e57ebbf2",
   "metadata": {},
   "outputs": [],
   "source": [
    "!./build_and_deploy.sh s3://$s3uri $region_name"
   ]
  },
  {
   "cell_type": "code",
   "execution_count": null,
   "id": "16f995a0-eb01-4d96-82a7-428eb0ddbe83",
   "metadata": {},
   "outputs": [],
   "source": [
    "!aws s3 presign s3://$s3uri/templates/all-in-one-ai-lambda.yaml | cut -d '?' -f 1"
   ]
  }
 ],
 "metadata": {
  "kernelspec": {
   "display_name": "conda_amazonei_pytorch_latest_p37",
   "language": "python",
   "name": "conda_amazonei_pytorch_latest_p37"
  },
  "language_info": {
   "codemirror_mode": {
    "name": "ipython",
    "version": 3
   },
   "file_extension": ".py",
   "mimetype": "text/x-python",
   "name": "python",
   "nbconvert_exporter": "python",
   "pygments_lexer": "ipython3",
   "version": "3.7.10"
  }
 },
 "nbformat": 4,
 "nbformat_minor": 5
}
