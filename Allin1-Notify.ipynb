{
 "cells": [
  {
   "attachments": {},
   "cell_type": "markdown",
   "id": "f401626b",
   "metadata": {},
   "source": [
    "## 以下脚本用于部署 Allin1 WebUI API SNS Notify"
   ]
  },
  {
   "cell_type": "code",
   "execution_count": 1,
   "id": "9f9d22b0-820e-4a5f-998d-d7e1e96410ab",
   "metadata": {
    "tags": []
   },
   "outputs": [
    {
     "name": "stdout",
     "output_type": "stream",
     "text": [
      "871839178153\n",
      "ap-northeast-1\n",
      "allinone-api-queue\n",
      "allinone-api-notification\n"
     ]
    }
   ],
   "source": [
    "import boto3,os\n",
    "from botocore.exceptions import ClientError\n",
    "\n",
    "account_id = boto3.client(\"sts\").get_caller_identity().get(\"Account\")\n",
    "region_name = boto3.session.Session().region_name\n",
    "\n",
    "dlq_name = f'allinone-api-dlq'\n",
    "topic_name = f'allinone-api-notification'\n",
    "# sns_https_endpoint = f\"https://<YOUR_URL>/<PATH>\"\n",
    "\n",
    "print(account_id)\n",
    "print(region_name)\n",
    "print(dlq_name)\n",
    "print(topic_name)"
   ]
  },
  {
   "attachments": {},
   "cell_type": "markdown",
   "id": "af6192d7",
   "metadata": {},
   "source": [
    "### 新建/获取 SNS topic"
   ]
  },
  {
   "cell_type": "code",
   "execution_count": 2,
   "id": "833c9ff9-3ee8-47f6-975f-1a54f00dc8d8",
   "metadata": {},
   "outputs": [
    {
     "name": "stdout",
     "output_type": "stream",
     "text": [
      "Creating topic allinone-api-notification.\n",
      "Created topic with ARN: allinone-api-notification arn:aws:sns:ap-northeast-1:871839178153:allinone-api-notification\n"
     ]
    }
   ],
   "source": [
    "# snippet-start:[python.example_code.sns.SnsWrapper]\n",
    "class SnsWrapper:\n",
    "    \"\"\"Encapsulates Amazon SNS topic and subscription functions.\"\"\"\n",
    "    def __init__(self, sns_resource):\n",
    "        \"\"\"\n",
    "        :param sns_resource: A Boto3 Amazon SNS resource.\n",
    "        \"\"\"\n",
    "        self.sns_resource = sns_resource\n",
    "# snippet-end:[python.example_code.sns.SnsWrapper]\n",
    "\n",
    "# snippet-start:[python.example_code.sns.CreateTopic]\n",
    "    def create_topic(self, name):\n",
    "        \"\"\"\n",
    "        Creates a notification topic.\n",
    "\n",
    "        :param name: The name of the topic to create.\n",
    "        :return: The newly created topic.\n",
    "        \"\"\"\n",
    "        try:\n",
    "            topic = self.sns_resource.create_topic(Name=name)\n",
    "            print(\"Created topic with ARN:\", name, topic.arn)\n",
    "        except ClientError:\n",
    "            print(\"Couldn't create topic:\", name)\n",
    "            raise\n",
    "        else:\n",
    "            return topic\n",
    "# snippet-end:[python.example_code.sns.CreateTopic]\n",
    "\n",
    "    @staticmethod\n",
    "# snippet-start:[python.example_code.sns.Subscribe]\n",
    "    def subscribe(topic, protocol, endpoint):\n",
    "        \"\"\"\n",
    "        Subscribes an endpoint to the topic. Some endpoint types, such as email,\n",
    "        must be confirmed before their subscriptions are active. When a subscription\n",
    "        is not confirmed, its Amazon Resource Number (ARN) is set to\n",
    "        'PendingConfirmation'.\n",
    "\n",
    "        :param topic: The topic to subscribe to.\n",
    "        :param protocol: The protocol of the endpoint, such as 'sms' or 'email'.\n",
    "        :param endpoint: The endpoint that receives messages, such as a phone number\n",
    "                         (in E.164 format) for SMS messages, or an email address for\n",
    "                         email messages.\n",
    "        :return: The newly added subscription.\n",
    "        \"\"\"\n",
    "        \n",
    "        delivery_policy = '''{\n",
    "                      \"healthyRetryPolicy\": {\n",
    "                        \"minDelayTarget\": 20,\n",
    "                        \"maxDelayTarget\": 20,\n",
    "                        \"numRetries\": 6,\n",
    "                        \"numMaxDelayRetries\": 0,\n",
    "                        \"numNoDelayRetries\": 0,\n",
    "                        \"numMinDelayRetries\": 0,\n",
    "                        \"backoffFunction\": \"linear\"\n",
    "                      },\n",
    "                      \"sicklyRetryPolicy\": null,\n",
    "                      \"throttlePolicy\": null,\n",
    "                      \"requestPolicy\": {\n",
    "                        \"headerContentType\": \"application/json; charset=utf-8\"\n",
    "                      },\n",
    "                      \"guaranteed\": false\n",
    "                    }\n",
    "                    '''\n",
    "        attributes={\n",
    "            \"RawMessageDelivery\": \"true\",\n",
    "            \"DeliveryPolicy\": delivery_policy\n",
    "        }\n",
    "        \n",
    "        try:\n",
    "            subscription = topic.subscribe(\n",
    "                Protocol=protocol, Endpoint=endpoint, Attributes=attributes, ReturnSubscriptionArn=True)\n",
    "            print(f\"Subscribed {protocol} {endpoint} to topic {topic.arn}.\")\n",
    "        except ClientError:\n",
    "            print(f\"Couldn't subscribe {protocol} {endpoint} to topic {topic.arn}.\")\n",
    "            raise\n",
    "        else:\n",
    "            return subscription\n",
    "# snippet-end:[python.example_code.sns.Subscribe]\n",
    "\n",
    "sns_wrapper = SnsWrapper(boto3.resource('sns'))\n",
    "print(f\"Creating topic {topic_name}.\")\n",
    "topic = sns_wrapper.create_topic(topic_name)"
   ]
  },
  {
   "attachments": {},
   "cell_type": "markdown",
   "id": "42b7793b",
   "metadata": {},
   "source": [
    "### 为SNS Topic 添加订阅，支持SQS/Http/Https等方式"
   ]
  },
  {
   "cell_type": "code",
   "execution_count": 4,
   "id": "6af164ca-269d-4bd3-8961-3d55c4cf72e6",
   "metadata": {
    "tags": []
   },
   "outputs": [
    {
     "name": "stdout",
     "output_type": "stream",
     "text": [
      "Subscribing http endpoint to allinone-api-notification.\n",
      "Subscribed https https://openapi.uqualities.com/AIGCImgCallBackServ/aigc/openApi/callback/info to topic arn:aws:sns:ap-northeast-1:871839178153:allinone-api-notification.\n"
     ]
    }
   ],
   "source": [
    "print(f\"Subscribing https endpoint to {topic_name}.\")\n",
    "# http_sub = sns_wrapper.subscribe(topic, 'https', sns_https_endpoint)"
   ]
  },
  {
   "attachments": {},
   "cell_type": "markdown",
   "id": "847bfb71",
   "metadata": {},
   "source": [
    "### （可选）新建 SQS"
   ]
  },
  {
   "cell_type": "code",
   "execution_count": 2,
   "id": "c52544b1-c6b6-4a37-95e3-2a3139e7963d",
   "metadata": {
    "tags": []
   },
   "outputs": [
    {
     "name": "stdout",
     "output_type": "stream",
     "text": [
      "Created queue with URL: allinone-api-queue https://sqs.ap-northeast-1.amazonaws.com/871839178153/allinone-api-queue\n",
      "Created queue with URL: https://sqs.ap-northeast-1.amazonaws.com/871839178153/allinone-api-queue.\n"
     ]
    }
   ],
   "source": [
    "# snippet-start: [SQS]\n",
    "sqs_resource = boto3.resource('sqs')\n",
    "\n",
    "# snippet-start:[python.example_code.sqs.CreateQueue]\n",
    "def create_queue(name, attributes=None):\n",
    "    \"\"\"\n",
    "    Creates an Amazon SQS queue.\n",
    "\n",
    "    :param name: The name of the queue. This is part of the URL assigned to the queue.\n",
    "    :param attributes: The attributes of the queue, such as maximum message size or\n",
    "                       whether it's a FIFO queue.\n",
    "    :return: A Queue object that contains metadata about the queue and that can be used\n",
    "             to perform queue operations like sending and receiving messages.\n",
    "    \"\"\"\n",
    "    if not attributes:\n",
    "        attributes = {}\n",
    "\n",
    "    try:\n",
    "        queue = sqs_resource.create_queue(\n",
    "            QueueName=name,\n",
    "            Attributes=attributes\n",
    "        )\n",
    "        print(\"Created queue with URL:\", name, queue.url)\n",
    "    except ClientError as error:\n",
    "        print(\"Couldn't create queue named:\", name)\n",
    "        raise error\n",
    "    else:\n",
    "        return queue\n",
    "    \n",
    "# snippet-end:[python.example_code.sqs.CreateQueue]\n",
    "queue = create_queue(\n",
    "    dlq_name\n",
    ")\n",
    "print(f\"Created queue with URL: {queue.url}.\")\n",
    "    \n",
    "# snippet-end: [SQS]"
   ]
  },
  {
   "attachments": {},
   "cell_type": "markdown",
   "id": "022ac8d3",
   "metadata": {},
   "source": [
    "### （可选）为SQS添加Policy, 允许来自Topic的SendMessage调用"
   ]
  },
  {
   "cell_type": "code",
   "execution_count": 4,
   "id": "6fcd5d89-ee72-4680-9681-f4c2f666ed8b",
   "metadata": {
    "tags": []
   },
   "outputs": [
    {
     "name": "stdout",
     "output_type": "stream",
     "text": [
      "Subscribing allinone-api-queue to allinone-api-notification.\n",
      "Subscribed sqs arn:aws:sqs:ap-northeast-1:871839178153:allinone-api-queue to topic arn:aws:sns:ap-northeast-1:871839178153:allinone-api-notification.\n",
      "Adding SQS policy to allinone-api-queue.\n",
      "Done.\n"
     ]
    }
   ],
   "source": [
    "sqs_policy = '''{\n",
    "  \"Version\": \"2012-10-17\",\n",
    "  \"Id\": \"__default_policy_ID\",\n",
    "  \"Statement\": [\n",
    "    {\n",
    "      \"Effect\": \"Allow\",\n",
    "      \"Principal\": {\n",
    "        \"Service\": \"sns.amazonaws.com\"\n",
    "      },\n",
    "      \"Action\": \"sqs:SendMessage\",\n",
    "      \"Resource\": \"%s\",\n",
    "      \"Condition\": {\n",
    "        \"ArnEquals\": {\n",
    "          \"aws:SourceArn\": \"%s\"\n",
    "        }\n",
    "      }\n",
    "    }\n",
    "  ]\n",
    "}''' % (queue.attributes['QueueArn'], topic.arn)\n",
    "\n",
    "attr = {\n",
    "        \"Policy\": sqs_policy\n",
    "    }\n",
    "\n",
    "print(f\"Adding SQS policy to {dlq_name}.\")\n",
    "queue.set_attributes(\n",
    "    Attributes=attr\n",
    ")\n",
    "\n",
    "# ---------------------------------------"
   ]
  },
  {
   "attachments": {},
   "cell_type": "markdown",
   "id": "3ce003ed",
   "metadata": {},
   "source": [
    "### （可选）新增SQS订阅"
   ]
  },
  {
   "cell_type": "code",
   "execution_count": null,
   "id": "7963898a-ae4d-4e98-a17b-db7c8778489d",
   "metadata": {},
   "outputs": [],
   "source": [
    "print(f\"Subscribing {dlq_name} to {topic_name}.\")\n",
    "sqs_sub = sns_wrapper.subscribe(topic, 'sqs', queue.attributes['QueueArn'])\n",
    "\n",
    "print(\"Done.\")"
   ]
  }
 ],
 "metadata": {
  "kernelspec": {
   "display_name": "conda_python3",
   "language": "python",
   "name": "conda_python3"
  },
  "language_info": {
   "codemirror_mode": {
    "name": "ipython",
    "version": 3
   },
   "file_extension": ".py",
   "mimetype": "text/x-python",
   "name": "python",
   "nbconvert_exporter": "python",
   "pygments_lexer": "ipython3",
   "version": "3.10.8"
  }
 },
 "nbformat": 4,
 "nbformat_minor": 5
}
